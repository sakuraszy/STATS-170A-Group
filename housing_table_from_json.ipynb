{
 "cells": [
  {
   "cell_type": "code",
   "execution_count": null,
   "id": "sacred-upset",
   "metadata": {},
   "outputs": [],
   "source": [
    "import json\n",
    "import os"
   ]
  },
  {
   "cell_type": "code",
   "execution_count": null,
   "id": "aboriginal-woman",
   "metadata": {},
   "outputs": [],
   "source": [
    "housing_json_direct = \"\"\n",
    "\n",
    "for filename in os.listdir(housing_json_direct):\n",
    "    if filename.endswith(\".json\"): \n",
    "        with open(filename) as json_file:\n",
    "            data = json.load(json_file)\n",
    "            if(data[meta][returned_rows] != 0):\n",
    "                "
   ]
  }
 ],
 "metadata": {
  "kernelspec": {
   "display_name": "Python 3",
   "language": "python",
   "name": "python3"
  },
  "language_info": {
   "codemirror_mode": {
    "name": "ipython",
    "version": 3
   },
   "file_extension": ".py",
   "mimetype": "text/x-python",
   "name": "python",
   "nbconvert_exporter": "python",
   "pygments_lexer": "ipython3",
   "version": "3.9.2"
  }
 },
 "nbformat": 4,
 "nbformat_minor": 5
}
