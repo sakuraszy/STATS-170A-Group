{
 "cells": [
  {
   "cell_type": "code",
   "execution_count": 4,
   "metadata": {},
   "outputs": [],
   "source": [
    "import requests\n",
    "from bs4 import BeautifulSoup\n",
    "import numpy as np\n",
    "import pandas as pd\n",
    "import time\n",
    "import csv\n",
    "import random\n",
    "from selenium import webdriver\n",
    "from selenium.common.exceptions import NoSuchElementException, TimeoutException, StaleElementReferenceException\n",
    "from selenium.webdriver.firefox.options import Options\n",
    "from selenium.webdriver.common.by import By\n",
    "from selenium.webdriver.support import expected_conditions as EC\n",
    "from selenium.webdriver.support.ui import WebDriverWait"
   ]
  },
  {
   "cell_type": "code",
   "execution_count": 5,
   "metadata": {},
   "outputs": [],
   "source": [
    "def get_result(code,page):\n",
    "    headers = { \"User-Agent\": f\"Mozilla/5.0 (Macintosh; Intel Mac OS X 10_14_6) AppleWebKit/537.{random.randrange(99)} (KHTML, like Gecko) Chrome/87.0.4280.67 Safari/537.36\"}\n",
    "    baseurl = 'https://www.realtor.com/soldhomeprices/{0}/type-single-family-home,condo-townhome-row-home-co-op/pg-{1}'.format(code,page)\n",
    "    r = requests.get(baseurl,headers = headers)\n",
    "    return r.content"
   ]
  },
  {
   "cell_type": "code",
   "execution_count": 6,
   "metadata": {},
   "outputs": [],
   "source": [
    "def get_first_page(code):\n",
    "    headers = { \"User-Agent\": f\"Mozilla/5.0 (Macintosh; Intel Mac OS X 10_14_6) AppleWebKit/537.{random.randrange(99)} (KHTML, like Gecko) Chrome/87.0.4280.67 Safari/537.36\"}\n",
    "    baseurl = 'https://www.realtor.com/soldhomeprices/{0}/type-single-family-home,condo-townhome-row-home-co-op'.format(code)\n",
    "    r = requests.get(baseurl,headers = headers)\n",
    "    return r.content"
   ]
  },
  {
   "cell_type": "code",
   "execution_count": 7,
   "metadata": {},
   "outputs": [],
   "source": [
    "def zipcode_list(path,colname):\n",
    "    return pd.read_excel(path)[colname]"
   ]
  },
  {
   "cell_type": "code",
   "execution_count": 8,
   "metadata": {},
   "outputs": [],
   "source": [
    "def get_house_page(url):\n",
    "    headers = { \"User-Agent\": f\"Mozilla/5.0 (Macintosh; Intel Mac OS X 10_14_6) AppleWebKit/537.{random.randrange(99)} (KHTML, like Gecko) Chrome/87.0.4280.67 Safari/537.36\"}\n",
    "    #cookie = {\"RUL=EPKxyP4FGPKYzY0GIrMBATZhkOPkdsbrqcjiflWTIOIuIH6pPkf4YTCL7xLOnFA-eTRtbebms-UFE_BkgqK3ONkDtMTFbWRLRKXFRW3Q22x7dYRxHHbu_-gsZ1eH558qMu3TR_0XgatrTEq8S7E0WN1TKsarRrxwkboyNBbq7Pao7AdpFluylPZOuc5MABlDBk053qZahOm0YySGedoxtabX7wBeQRMnrfPEQ8EiGyGxHwUJxg5HKkaW2ynrzjLtwq0|cs=AP6Md-Wdq_czgxUddMCJuXxJbMiT; IDE=AHWqTUkpnaoHwOW1Z7vjzclkzBEX4CXUaz8ABc0Xcjw2JDTTkS3xfoLbXbjiJT-6ryA\"}\n",
    "    return requests.get('https://www.realtor.com'+url,headers= headers).content"
   ]
  },
  {
   "cell_type": "code",
   "execution_count": 9,
   "metadata": {},
   "outputs": [],
   "source": [
    "def get_b_count(soup):\n",
    "    beds =soup.find_all(attrs={\"data-label\": \"property-meta-beds\"})[0].contents[1].string\n",
    "    baths = soup.find_all(attrs={\"data-label\": \"property-meta-bath\"})[0].contents[1].string\n",
    "    sqft = soup.find_all(attrs={\"data-label\": \"property-meta-sqft\"})[0].contents[1].string\n",
    "    return (beds,baths,sqft)"
   ]
  },
  {
   "cell_type": "code",
   "execution_count": 10,
   "metadata": {},
   "outputs": [],
   "source": [
    "def get_price(soup):\n",
    "    return soup.find_all(attrs={\"class\": \"display-inline\"})[2].find_all('span')[1].string.strip()"
   ]
  },
  {
   "cell_type": "code",
   "execution_count": 11,
   "metadata": {},
   "outputs": [],
   "source": [
    "def get_type_build(soup):\n",
    "    temp = soup.find_all(attrs={'class':'key-fact-data ellipsis'})\n",
    "    return (temp[2].string,temp[3].string)"
   ]
  },
  {
   "cell_type": "code",
   "execution_count": 12,
   "metadata": {},
   "outputs": [],
   "source": [
    "def get_neigh_page(soup):\n",
    "    return 'https://www.realtor.com'+soup.find_all(attrs={'class':'neighborhood-max-width-sm padding-bottom'})[0].a['href']"
   ]
  },
  {
   "cell_type": "code",
   "execution_count": 13,
   "metadata": {},
   "outputs": [],
   "source": [
    "def get_school(page):\n",
    "    result=dict()\n",
    "    try:\n",
    "        for school in page.find_all(attrs={'class':\"table table-clear table-heading-unstyled table-school school-rating-lg\"})[0].tbody.find_all('tr'):\n",
    "            result[school.a.string]= dict()\n",
    "            result[school.a.string]['rating'] = school.span.string\n",
    "            result[school.a.string]['grades'] = school.find_all('td',attrs={'class':True})[1].string\n",
    "            result[school.a.string]['distance'] = school.find_all('td',attrs={'class':True})[2].string\n",
    "    except IndexError:\n",
    "        return ''\n",
    "        \n",
    "    return result"
   ]
  },
  {
   "cell_type": "code",
   "execution_count": 14,
   "metadata": {},
   "outputs": [],
   "source": [
    "def create_csv(p, head: list):\n",
    "    path = p\n",
    "    with open(path, \"w\") as f:\n",
    "        csv_write = csv.writer(f)\n",
    "        csv_head = head\n",
    "        csv_write.writerow(csv_head)\n",
    "def write_csv(p, data: list):\n",
    "    with open(p, \"a+\") as f:\n",
    "        csv_write = csv.writer(f)\n",
    "        csv_write.writerow(data)"
   ]
  },
  {
   "cell_type": "code",
   "execution_count": 15,
   "metadata": {},
   "outputs": [],
   "source": [
    "def get_house_list(code:int):\n",
    "    house_list = set()\n",
    "    page = 1\n",
    "    soup = BeautifulSoup(get_result(code,1))\n",
    "    maxpage = int(soup.find_all(attrs = {'data-omtag':\"not_for_sale:srp_list:paging:4\"})[0].string)\n",
    "    while(page <= maxpage):\n",
    "        soup = BeautifulSoup(get_result(code,page))\n",
    "        for i in soup.find_all('a'):\n",
    "            try:\n",
    "                if 'realestateandhomes-detail' in i['href']:\n",
    "                    house_list.add(i['href'])\n",
    "            except KeyError:\n",
    "                pass\n",
    "            page +=1\n",
    "    return house_list"
   ]
  },
  {
   "cell_type": "code",
   "execution_count": 50,
   "metadata": {},
   "outputs": [],
   "source": [
    "def get_house_link(soup):\n",
    "    temp = set()\n",
    "    for i in soup.find_all('a'):\n",
    "        try:\n",
    "            if \"/realestateandhomes-detail\" in i['href']:\n",
    "                temp.add(i['href'])\n",
    "        except:\n",
    "            KeyError\n",
    "    return list(temp)"
   ]
  },
  {
   "cell_type": "code",
   "execution_count": 85,
   "metadata": {},
   "outputs": [],
   "source": [
    "def generate_detail(house_list:list,p):\n",
    "    head = ['ID',\"beds\",\"baths\",\"sqft\",\"price\",'type',\"built\",\"neigborhood\",\"school\"]\n",
    "    create_csv(p,head)\n",
    "    ##driver = webdriver.Firefox(executable_path = '/usr/local/bin/geckodriver')\n",
    "    for link in house_list:\n",
    "        print(link)\n",
    "        name = link.split('/')[-1]\n",
    "        ##driver.get(get_house_page(link))\n",
    "        ##time.sleep(3)\n",
    "        temp =get_house_page(link)\n",
    "        soup = BeautifulSoup(temp)\n",
    "        beds,baths,sqft =get_b_count(soup)\n",
    "        price = get_price(soup)\n",
    "        t,built = get_type_build(soup)\n",
    "        nei = get_neigh_page(soup)\n",
    "        school = get_school(soup)\n",
    "        write_csv(p,[name,beds,baths,sqft,price,t,built,nei,school])\n",
    "        sleep_t = random.randrange(5,30)\n",
    "        time.sleep(sleep_t)"
   ]
  },
  {
   "cell_type": "code",
   "execution_count": 1,
   "metadata": {},
   "outputs": [],
   "source": [
    "input_list = total\n",
    "generate_detail(input_list,'text2.csv')"
   ]
  },
  {
   "cell_type": "code",
   "execution_count": 76,
   "metadata": {},
   "outputs": [],
   "source": [
    "t = get_house_link(soup)"
   ]
  },
  {
   "cell_type": "code",
   "execution_count": 77,
   "metadata": {},
   "outputs": [
    {
     "data": {
      "text/plain": [
       "['/realestateandhomes-detail/3371-Erinlea-Ave_Thousand-Oaks_CA_91320_M14310-99766',\n",
       " '/realestateandhomes-detail/25-Cedar-Crest-Ct_Thousand-Oaks_CA_91320_M20471-43062',\n",
       " '/realestateandhomes-detail/3832-Calle-Linda-Vista_Newbury-Park_CA_91320_M17695-83048',\n",
       " '/realestateandhomes-detail/167-Brook-Rd_Thousand-Oaks_CA_91320_M17361-58771',\n",
       " '/realestateandhomes-detail/4043-Calle-Mira-Monte_Thousand-Oaks_CA_91320_M10579-67256',\n",
       " '/realestateandhomes-detail/1217-Knollwood-Dr_Thousand-Oaks_CA_91320_M14035-22969',\n",
       " '/realestateandhomes-detail/1253-Rotella-St_Thousand-Oaks_CA_91320_M14075-10424',\n",
       " '/realestateandhomes-detail/802-Deer-Willow-Ct_Thousand-Oaks_CA_91320_M14327-39467',\n",
       " '/realestateandhomes-detail/33-Greenmeadow-Dr_Thousand-Oaks_CA_91320_M24066-34217',\n",
       " '/realestateandhomes-detail/1772-Blue-Canyon-St_Thousand-Oaks_CA_91320_M15927-59425',\n",
       " '/realestateandhomes-detail/8-Bluefield-Ave_Thousand-Oaks_CA_91320_M14829-36692',\n",
       " '/realestateandhomes-detail/1562-Silver-Shadow-Dr_Newbury-Park_CA_91320_M15676-39702',\n",
       " '/realestateandhomes-detail/1203-Ramona-Dr_Thousand-Oaks_CA_91320_M13776-97670',\n",
       " '/realestateandhomes-detail/1278-Alessandro-Dr_Thousand-Oaks_CA_91320_M13689-40174',\n",
       " '/realestateandhomes-detail/1695-Amarelle-St_Thousand-Oaks_CA_91320_M16097-89960',\n",
       " '/realestateandhomes-detail/858-Kenmore-Cir_Newbury-Park_CA_91320_M13968-89631',\n",
       " '/realestateandhomes-detail/565-Paseo-Grande_Thousand-Oaks_CA_91320_M16894-01386',\n",
       " '/realestateandhomes-detail/83-Teardrop-Ct_Thousand-Oaks_CA_91320_M14919-17784',\n",
       " '/realestateandhomes-detail/3955-Greenwood-St_Thousand-Oaks_CA_91320_M15209-10687',\n",
       " '/realestateandhomes-detail/1680-Calle-Turquesa_Thousand-Oaks_CA_91320_M23250-59069',\n",
       " '/realestateandhomes-detail/727-Blue-Oak-Ave_Thousand-Oaks_CA_91320_M20520-99432',\n",
       " '/realestateandhomes-detail/4925-Via-El-Cerro_Thousand-Oaks_CA_91320_M18696-24406',\n",
       " '/realestateandhomes-detail/71-N-Via-Los-Altos_Newbury-Park_CA_91320_M20723-79440',\n",
       " '/realestateandhomes-detail/3579-Claybourne-Ct_Thousand-Oaks_CA_91320_M15696-17274',\n",
       " '/realestateandhomes-detail/852-Verna-Ave_Newbury-Park_CA_91320_M16318-51398',\n",
       " '/realestateandhomes-detail/167-Brook-Rd_Thousand-Oaks_CA_91320_M20314-51103',\n",
       " '/realestateandhomes-detail/280-Acacia-Ln_Newbury-Park_CA_91320_M17547-91743',\n",
       " '/realestateandhomes-detail/3239-Heatherfield-Ct_Thousand-Oaks_CA_91320_M15603-00789',\n",
       " '/realestateandhomes-detail/1857-Tipperary-Ln_Newbury-Park_CA_91320_M13579-46721',\n",
       " '/realestateandhomes-detail/1128-Rotella-St_Newbury-Park_CA_91320_M13955-10791',\n",
       " '/realestateandhomes-detail/1416-Ramona-Dr_Thousand-Oaks_CA_91320_M23811-44312',\n",
       " '/realestateandhomes-detail/1669-Ramona-Dr_Thousand-Oaks_CA_91320_M13807-90744',\n",
       " '/realestateandhomes-detail/3977-Elkwood-St_Thousand-Oaks_CA_91320_M15054-08055',\n",
       " '/realestateandhomes-detail/186-E-Kelly-Rd_Thousand-Oaks_CA_91320_M13718-84183',\n",
       " '/realestateandhomes-detail/3859-Mayfield-St_Thousand-Oaks_CA_91320_M14906-13476',\n",
       " '/realestateandhomes-detail/1015-Meadowcrest-St_Thousand-Oaks_CA_91320_M25735-08082',\n",
       " '/realestateandhomes-detail/1838-Red-Robin-Pl_Thousand-Oaks_CA_91320_M26175-88709',\n",
       " '/realestateandhomes-detail/5175-Via-El-Molino_Newbury-Park_CA_91320_M20729-75695',\n",
       " '/realestateandhomes-detail/3421-Lesser-Dr_Thousand-Oaks_CA_91320_M16099-76290',\n",
       " '/realestateandhomes-detail/491-Helga-Ct_Newbury-Park_CA_91320_M13256-74415',\n",
       " '/realestateandhomes-detail/1674-Nutcracker-Ct_Thousand-Oaks_CA_91320_M25866-95243',\n",
       " '/realestateandhomes-detail/2939-Cottonwood-Ct_Newbury-Park_CA_91320_M14049-01808',\n",
       " '/realestateandhomes-detail/1711-Fox-Springs-Cir_Thousand-Oaks_CA_91320_M15914-92383',\n",
       " '/realestateandhomes-detail/923-Sagebrush-Pl_Thousand-Oaks_CA_91320_M14174-60431']"
      ]
     },
     "execution_count": 77,
     "metadata": {},
     "output_type": "execute_result"
    }
   ],
   "source": [
    "t"
   ]
  },
  {
   "cell_type": "code",
   "execution_count": 81,
   "metadata": {},
   "outputs": [
    {
     "data": {
      "text/plain": [
       "['/realestateandhomes-detail/3526-Robinwood-Ave_Clovis_CA_93619_M24662-66816',\n",
       " '/realestateandhomes-detail/2881-Huntington-Blvd-Apt-255_Fresno_CA_93721_M28100-58589',\n",
       " '/realestateandhomes-detail/1042-Ezie-Ave_Clovis_CA_93611_M21328-41920',\n",
       " '/realestateandhomes-detail/7319-N-Lola-Ave_Fresno_CA_93722_M23004-26864',\n",
       " '/realestateandhomes-detail/2811-E-Fedora-Ave_Fresno_CA_93726_M22041-43041',\n",
       " '/realestateandhomes-detail/14243-S-Marquette-Ave_Chicago_IL_60633_M75072-83519',\n",
       " '/realestateandhomes-detail/12853-S-Escanaba-Ave_Chicago_IL_60633_M77278-48038',\n",
       " '/realestateandhomes-detail/12634-S-Muskegon-Ave_Chicago_IL_60633_M80141-13636',\n",
       " '/realestateandhomes-detail/1741-Robinwood-Ave_Clovis_CA_93611_M20898-74288',\n",
       " '/realestateandhomes-detail/3769-Chessa-Ln_Clovis_CA_93619_M25990-70622',\n",
       " '/realestateandhomes-detail/5175-Via-El-Molino_Newbury-Park_CA_91320_M20729-75695',\n",
       " '/realestateandhomes-detail/3094-W-Mesa-Ave_Fresno_CA_93711_M26566-74752',\n",
       " '/realestateandhomes-detail/204-S-J-St_Madera_CA_93637_M22696-85610',\n",
       " '/realestateandhomes-detail/3832-Calle-Linda-Vista_Newbury-Park_CA_91320_M17695-83048',\n",
       " '/realestateandhomes-detail/12931-S-Carondolet-Ave_Chicago_IL_60633_M81060-11450',\n",
       " '/realestateandhomes-detail/2890-Huntington-Blvd-Apt-138_Fresno_CA_93721_M14451-36217',\n",
       " '/realestateandhomes-detail/2881-Huntington-Blvd-Apt-118_Fresno_CA_93721_M24995-32862',\n",
       " '/realestateandhomes-detail/2837-E-127th-St_Chicago_IL_60633_M76933-02509',\n",
       " '/realestateandhomes-detail/12958-S-Commercial-Ave_Chicago_IL_60633_M71508-00662',\n",
       " '/realestateandhomes-detail/186-E-Kelly-Rd_Thousand-Oaks_CA_91320_M13718-84183',\n",
       " '/realestateandhomes-detail/2393-Lighthouse-Dr_Madera_CA_93637_M16123-22973',\n",
       " '/realestateandhomes-detail/125-S-Granada-Dr-Apt-52_Madera_CA_93637_M22383-82218',\n",
       " '/realestateandhomes-detail/1857-Tipperary-Ln_Newbury-Park_CA_91320_M13579-46721',\n",
       " '/realestateandhomes-detail/3250-E-136th-St_Chicago_IL_60633_M83854-39711',\n",
       " '/realestateandhomes-detail/2125-N-Archie-Ave_Fresno_CA_93703_M26453-34533',\n",
       " '/realestateandhomes-detail/8-Bluefield-Ave_Thousand-Oaks_CA_91320_M14829-36692',\n",
       " '/realestateandhomes-detail/14223-S-Mackinaw-Ave_Chicago_IL_60633_M79186-99464',\n",
       " '/realestateandhomes-detail/13515-S-Avenue-M_Chicago_IL_60633_M85045-78928',\n",
       " '/realestateandhomes-detail/12716-S-Marquette-Ave_Chicago_IL_60633_M80307-71512',\n",
       " '/realestateandhomes-detail/1067-San-Diego-Ave_Madera_CA_93637_M15068-69498',\n",
       " '/realestateandhomes-detail/727-Blue-Oak-Ave_Thousand-Oaks_CA_91320_M20520-99432',\n",
       " '/realestateandhomes-detail/923-Sagebrush-Pl_Thousand-Oaks_CA_91320_M14174-60431',\n",
       " '/realestateandhomes-detail/2620-E-Goodrich-Ave-Apt-6_Burnham_IL_60633_M80067-07160',\n",
       " '/realestateandhomes-detail/Avenue-15_Madera_CA_93636_M27134-92718',\n",
       " '/realestateandhomes-detail/167-Brook-Rd_Thousand-Oaks_CA_91320_M20314-51103',\n",
       " '/realestateandhomes-detail/1421-W-Central-Ave_Madera_CA_93637_M12507-80813',\n",
       " '/realestateandhomes-detail/13316-S-Avenue-M_Chicago_IL_60633_M82352-38366',\n",
       " '/realestateandhomes-detail/858-Kenmore-Cir_Newbury-Park_CA_91320_M13968-89631',\n",
       " '/realestateandhomes-detail/1669-Ramona-Dr_Thousand-Oaks_CA_91320_M13807-90744',\n",
       " '/realestateandhomes-detail/3572-N-Berlin-Ave_Fresno_CA_93722_M21397-70237',\n",
       " '/realestateandhomes-detail/14118-S-Bensley-Ave_Burnham_IL_60633_M88225-98258',\n",
       " '/realestateandhomes-detail/3421-Lesser-Dr_Thousand-Oaks_CA_91320_M16099-76290',\n",
       " '/realestateandhomes-detail/757-S-Hazelwood-Blvd_Fresno_CA_93721_M14334-71977',\n",
       " '/realestateandhomes-detail/7166-N-Fruit-Ave-Apt-134_Fresno_CA_93711_M28070-15160',\n",
       " '/realestateandhomes-detail/3252-E-136th-St_Chicago_IL_60633_M81676-37947',\n",
       " '/realestateandhomes-detail/3579-Claybourne-Ct_Thousand-Oaks_CA_91320_M15696-17274',\n",
       " '/realestateandhomes-detail/1674-Nutcracker-Ct_Thousand-Oaks_CA_91320_M25866-95243',\n",
       " '/realestateandhomes-detail/83-Teardrop-Ct_Thousand-Oaks_CA_91320_M14919-17784',\n",
       " '/realestateandhomes-detail/491-Helga-Ct_Newbury-Park_CA_91320_M13256-74415',\n",
       " '/realestateandhomes-detail/3859-Mayfield-St_Thousand-Oaks_CA_91320_M14906-13476',\n",
       " '/realestateandhomes-detail/3371-Erinlea-Ave_Thousand-Oaks_CA_91320_M14310-99766',\n",
       " '/realestateandhomes-detail/4673-E-Cornell-Ave_Fresno_CA_93703_M27141-27463',\n",
       " '/realestateandhomes-detail/1146-W-Celeste-Ave_Fresno_CA_93711_M11663-23807',\n",
       " '/realestateandhomes-detail/1203-Ramona-Dr_Thousand-Oaks_CA_91320_M13776-97670',\n",
       " '/realestateandhomes-detail/2595-W-Sample-Ave_Fresno_CA_93711_M25551-99590',\n",
       " '/realestateandhomes-detail/2797-E-Jon-Dr_Fresno_CA_93720_M18612-98142',\n",
       " '/realestateandhomes-detail/552-W-El-Paso-Ave_Clovis_CA_93611_M28357-14861',\n",
       " '/realestateandhomes-detail/5432-E-Burns-Ave_Fresno_CA_93727_M23354-67363',\n",
       " '/realestateandhomes-detail/120-Gable-Way_Madera_CA_93637_M21938-86683',\n",
       " '/realestateandhomes-detail/13017-S-Escanaba-Ave_Chicago_IL_60633_M82187-11884',\n",
       " '/realestateandhomes-detail/3015-E-Balch-Ave_Fresno_CA_93721_M14363-04189',\n",
       " '/realestateandhomes-detail/565-Paseo-Grande_Thousand-Oaks_CA_91320_M16894-01386',\n",
       " '/realestateandhomes-detail/3035-N-Shelly-Ave_Fresno_CA_93727_M19182-74131',\n",
       " '/realestateandhomes-detail/1230-N-Wilson-Ave_Fresno_CA_93728_M28117-26966',\n",
       " '/realestateandhomes-detail/1753-W-Roberts-Ave_Fresno_CA_93711_M12078-00801',\n",
       " '/realestateandhomes-detail/167-Brook-Rd_Thousand-Oaks_CA_91320_M17361-58771',\n",
       " '/realestateandhomes-detail/14012-S-Manistee-Ave_Burnham_IL_60633_M74066-65475',\n",
       " '/realestateandhomes-detail/13134-S-Brandon-Ave_Chicago_IL_60633_M70276-62431',\n",
       " '/realestateandhomes-detail/4781-E-Teague-Ave_Clovis_CA_93619_M28100-01361',\n",
       " '/realestateandhomes-detail/416-Krest-St_Madera_CA_93637_M22155-38195',\n",
       " '/realestateandhomes-detail/9299-N-Backer-Ave_Fresno_CA_93720_M10126-53582',\n",
       " '/realestateandhomes-detail/14033-S-Manistee-Ave_Burnham_IL_60633_M92706-62582',\n",
       " '/realestateandhomes-detail/3180-San-Jose-Ave_Clovis_CA_93619_M23956-00288',\n",
       " '/realestateandhomes-detail/4043-Calle-Mira-Monte_Thousand-Oaks_CA_91320_M10579-67256',\n",
       " '/realestateandhomes-detail/13039-S-Baltimore-Ave_Chicago_IL_60633_M78458-32012',\n",
       " '/realestateandhomes-detail/2939-Cottonwood-Ct_Newbury-Park_CA_91320_M14049-01808',\n",
       " '/realestateandhomes-detail/2881-Huntington-Blvd-Apt-116_Fresno_CA_93721_M25368-98007',\n",
       " '/realestateandhomes-detail/13075-S-Brainard-Ave_Chicago_IL_60633_M70238-98571',\n",
       " '/realestateandhomes-detail/1416-Ramona-Dr_Thousand-Oaks_CA_91320_M23811-44312',\n",
       " '/realestateandhomes-detail/802-Deer-Willow-Ct_Thousand-Oaks_CA_91320_M14327-39467',\n",
       " '/realestateandhomes-detail/14127-S-Bensley-Ave_Chicago_IL_60633_M77598-02621',\n",
       " '/realestateandhomes-detail/1562-Silver-Shadow-Dr_Newbury-Park_CA_91320_M15676-39702',\n",
       " '/realestateandhomes-detail/3955-Greenwood-St_Thousand-Oaks_CA_91320_M15209-10687',\n",
       " '/realestateandhomes-detail/14123-S-Green-Bay-Ave_Burnham_IL_60633_M70295-39211',\n",
       " '/realestateandhomes-detail/13401-S-Avenue-K_Chicago_IL_60633_M83852-07891',\n",
       " '/realestateandhomes-detail/1695-Amarelle-St_Thousand-Oaks_CA_91320_M16097-89960',\n",
       " '/realestateandhomes-detail/116-Monterey-St_Madera_CA_93637_M23132-12231',\n",
       " '/realestateandhomes-detail/4925-Via-El-Cerro_Thousand-Oaks_CA_91320_M18696-24406',\n",
       " '/realestateandhomes-detail/760-S-11th-St_Kerman_CA_93630_M29923-89107',\n",
       " '/realestateandhomes-detail/14306-S-Calhoun-Ave_Burnham_IL_60633_M76292-64396',\n",
       " '/realestateandhomes-detail/1824-Paul-Ave_Madera_CA_93637_M29742-78134',\n",
       " '/realestateandhomes-detail/33-Greenmeadow-Dr_Thousand-Oaks_CA_91320_M24066-34217',\n",
       " '/realestateandhomes-detail/13032-S-Muskegon-Ave_Chicago_IL_60633_M79829-85202',\n",
       " '/realestateandhomes-detail/1278-Alessandro-Dr_Thousand-Oaks_CA_91320_M13689-40174',\n",
       " '/realestateandhomes-detail/14048-S-Manistee-Ave_Chicago_IL_60633_M78912-20004',\n",
       " '/realestateandhomes-detail/13343-S-Mackinaw-Ave_Chicago_IL_60633_M71507-63396',\n",
       " '/realestateandhomes-detail/3239-Heatherfield-Ct_Thousand-Oaks_CA_91320_M15603-00789',\n",
       " '/realestateandhomes-detail/561-Pierce-Dr_Clovis_CA_93612_M10728-98090',\n",
       " '/realestateandhomes-detail/13106-S-Avenue-M_Chicago_IL_60633_M83972-53014',\n",
       " '/realestateandhomes-detail/1128-Rotella-St_Newbury-Park_CA_91320_M13955-10791',\n",
       " '/realestateandhomes-detail/13034-S-Manistee-Ave_Chicago_IL_60633_M71850-85329',\n",
       " '/realestateandhomes-detail/2840-E-130th-St_Chicago_IL_60633_M70233-39582',\n",
       " '/realestateandhomes-detail/1253-Rotella-St_Thousand-Oaks_CA_91320_M14075-10424',\n",
       " '/realestateandhomes-detail/13121-S-Baltimore-Ave_Chicago_IL_60633_M82550-08912',\n",
       " '/realestateandhomes-detail/1838-Red-Robin-Pl_Thousand-Oaks_CA_91320_M26175-88709',\n",
       " '/realestateandhomes-detail/3501-Alcove-Way_Clovis_CA_93619_M27524-67237',\n",
       " '/realestateandhomes-detail/3123-Fairfax-Ave_Clovis_CA_93612_M21687-66289',\n",
       " '/realestateandhomes-detail/2890-Huntington-Blvd-Apt-172_Fresno_CA_93721_M12099-59227',\n",
       " '/realestateandhomes-detail/7043-N-Creative-Dr_Fresno_CA_93711_M12924-50770',\n",
       " '/realestateandhomes-detail/13547-S-Mackinaw-Ave_Chicago_IL_60633_M72197-05390',\n",
       " '/realestateandhomes-detail/280-Acacia-Ln_Newbury-Park_CA_91320_M17547-91743',\n",
       " '/realestateandhomes-detail/13031-S-Carondolet-Ave_Chicago_IL_60633_M72084-13809',\n",
       " '/realestateandhomes-detail/3307-E-136th-St_Chicago_IL_60633_M83121-66644',\n",
       " '/realestateandhomes-detail/1217-Knollwood-Dr_Thousand-Oaks_CA_91320_M14035-22969',\n",
       " '/realestateandhomes-detail/71-N-Via-Los-Altos_Newbury-Park_CA_91320_M20723-79440',\n",
       " '/realestateandhomes-detail/4369-Heritage-Ave_Clovis_CA_93619_M18049-44056',\n",
       " '/realestateandhomes-detail/12924-S-Muskegon-Ave_Chicago_IL_60633_M87609-31347',\n",
       " '/realestateandhomes-detail/13132-S-Houston-Ave_Chicago_IL_60633_M80546-10343',\n",
       " '/realestateandhomes-detail/3977-Elkwood-St_Thousand-Oaks_CA_91320_M15054-08055',\n",
       " '/realestateandhomes-detail/590-W-San-Jose-Ave_Fresno_CA_93704_M29520-50971',\n",
       " '/realestateandhomes-detail/1680-Calle-Turquesa_Thousand-Oaks_CA_91320_M23250-59069',\n",
       " '/realestateandhomes-detail/1015-Meadowcrest-St_Thousand-Oaks_CA_91320_M25735-08082',\n",
       " '/realestateandhomes-detail/1711-Fox-Springs-Cir_Thousand-Oaks_CA_91320_M15914-92383',\n",
       " '/realestateandhomes-detail/852-Verna-Ave_Newbury-Park_CA_91320_M16318-51398',\n",
       " '/realestateandhomes-detail/13101-S-Burley-Ave_Chicago_IL_60633_M73024-73048',\n",
       " '/realestateandhomes-detail/25-Cedar-Crest-Ct_Thousand-Oaks_CA_91320_M20471-43062',\n",
       " '/realestateandhomes-detail/13013-S-Carondolet-Ave_Chicago_IL_60633_M81846-79855',\n",
       " '/realestateandhomes-detail/14008-S-Saginaw-Ave_Burnham_IL_60633_M72172-43912',\n",
       " '/realestateandhomes-detail/525-W-4th-St_Madera_CA_93637_M22661-08079',\n",
       " '/realestateandhomes-detail/4924-E-Iowa-Ave_Fresno_CA_93727_M12793-77305',\n",
       " '/realestateandhomes-detail/2927-E-Donahoo-St_Fresno_CA_93721_M14439-06441',\n",
       " '/realestateandhomes-detail/3020-Ventura-St_Fresno_CA_93721_M14371-24039',\n",
       " '/realestateandhomes-detail/891-Greenfield-Ave_Clovis_CA_93611_M10175-15334',\n",
       " '/realestateandhomes-detail/12748-S-Muskegon-Ave_Chicago_IL_60633_M80401-99796',\n",
       " '/realestateandhomes-detail/1772-Blue-Canyon-St_Thousand-Oaks_CA_91320_M15927-59425',\n",
       " '/realestateandhomes-detail/13239-S-Green-Bay-Ave_Chicago_IL_60633_M83099-76177',\n",
       " '/realestateandhomes-detail/14029-S-Calhoun-Ave_Burnham_IL_60633_M85093-95681',\n",
       " '/realestateandhomes-detail/13028-S-Baltimore-Ave_Chicago_IL_60633_M78411-36503',\n",
       " '/realestateandhomes-detail/12933-S-Muskegon-Ave_Chicago_IL_60633_M80901-36159',\n",
       " '/realestateandhomes-detail/2284-W-Palo-Alto-Ave_Fresno_CA_93711_M25513-98464',\n",
       " '/realestateandhomes-detail/5441-E-Madison-Ave_Fresno_CA_93727_M12869-05025']"
      ]
     },
     "execution_count": 81,
     "metadata": {},
     "output_type": "execute_result"
    }
   ],
   "source": [
    "total"
   ]
  },
  {
   "cell_type": "code",
   "execution_count": 80,
   "metadata": {},
   "outputs": [],
   "source": [
    "random.shuffle(total)"
   ]
  },
  {
   "cell_type": "code",
   "execution_count": 67,
   "metadata": {},
   "outputs": [],
   "source": [
    "house_list = []\n",
    "for i in soup.find_all('a'):\n",
    "    try:\n",
    "        if 'realestateandhomes-detail' in i['href']:\n",
    "            house_list.append(i['href'])\n",
    "    except KeyError:\n",
    "        pass"
   ]
  },
  {
   "cell_type": "code",
   "execution_count": 281,
   "metadata": {},
   "outputs": [],
   "source": [
    "with open('link_list.txt', 'w') as filehandle:\n",
    "    for listitem in house_list:\n",
    "        filehandle.write('%s\\n' % listitem)"
   ]
  }
 ],
 "metadata": {
  "kernelspec": {
   "display_name": "Python 3",
   "language": "python",
   "name": "python3"
  },
  "language_info": {
   "codemirror_mode": {
    "name": "ipython",
    "version": 3
   },
   "file_extension": ".py",
   "mimetype": "text/x-python",
   "name": "python",
   "nbconvert_exporter": "python",
   "pygments_lexer": "ipython3",
   "version": "3.7.4"
  }
 },
 "nbformat": 4,
 "nbformat_minor": 4
}
