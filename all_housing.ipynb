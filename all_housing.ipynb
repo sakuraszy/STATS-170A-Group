{
 "cells": [
  {
   "cell_type": "code",
   "execution_count": 1,
   "id": "fitting-current",
   "metadata": {},
   "outputs": [],
   "source": [
    "import os\n",
    "import json\n",
    "from pandas import DataFrame"
   ]
  },
  {
   "cell_type": "code",
   "execution_count": 2,
   "id": "prerequisite-recommendation",
   "metadata": {},
   "outputs": [],
   "source": [
    "def get_house_info(file_path):\n",
    "    result_list = []\n",
    "    info_categories = ['property_id','prop_type','year_built','is_new_construction',\n",
    "                       'beds','baths_full','baths_half','garage','price']\n",
    "    size_categories = ['lot_size','building_size']\n",
    "    address_categories = ['line','neighborhoods','city','county','state_code','postal_code']\n",
    "\n",
    "    file = open(file_path)\n",
    "    data = json.load(file)\n",
    "    \n",
    "    for house in data['properties']:\n",
    "        house_properties = []\n",
    "        for info in info_categories:\n",
    "            try:\n",
    "                house_properties.append(house[info])\n",
    "            except KeyError:\n",
    "                house_properties.append('None')\n",
    "        for size in size_categories:\n",
    "            try:\n",
    "                house_properties.append(house[size]['size'])\n",
    "            except KeyError:\n",
    "                house_properties.append('None')\n",
    "        for address in address_categories:\n",
    "            try:\n",
    "                neighbor_names = []\n",
    "                if address == 'neighborhoods':\n",
    "                    for neighborhood in house['address'][address]:\n",
    "                        neighbor_names.append(neighborhood['name'])\n",
    "                    house_properties.append(neighbor_names)\n",
    "                else:\n",
    "                    house_properties.append(house['address'][address])\n",
    "            except KeyError:\n",
    "                house_properties.append('None')\n",
    "        result_list.append(house_properties)\n",
    "        \n",
    "    file.close()\n",
    "    return result_list"
   ]
  },
  {
   "cell_type": "markdown",
   "id": "asian-ethiopia",
   "metadata": {},
   "source": [
    "Script"
   ]
  },
  {
   "cell_type": "code",
   "execution_count": 8,
   "id": "amateur-boulder",
   "metadata": {},
   "outputs": [],
   "source": [
    "directory = \"C:/Users/10072/Documents/GitHub/STATS-170A-Group/housing_json\"\n",
    "file_list = []\n",
    "for filename in os.listdir(directory):\n",
    "    if filename.endswith(\".json\"):\n",
    "        file_list.append(filename)"
   ]
  },
  {
   "cell_type": "code",
   "execution_count": 9,
   "id": "anonymous-filename",
   "metadata": {},
   "outputs": [],
   "source": [
    "final_result = []\n",
    "x = 0\n",
    "for file_path in file_list:\n",
    "    final_result.extend(get_house_info(file_path))"
   ]
  },
  {
   "cell_type": "code",
   "execution_count": 10,
   "id": "alert-reception",
   "metadata": {},
   "outputs": [],
   "source": [
    "column_names = ['property_id','prop_type','year_built',\n",
    "                'is_new_construction','beds','baths_full','baths_half',\n",
    "                'garage','price','lot_size','building_size','line',\n",
    "                'neighborhoods','city','county','state_code','postal_code']\n",
    "df = DataFrame(final_result,columns = column_names)"
   ]
  },
  {
   "cell_type": "code",
   "execution_count": 11,
   "id": "soviet-employment",
   "metadata": {},
   "outputs": [],
   "source": [
    "df.to_csv(r'F:\\170A Data\\housing.csv',index = False, header = True)"
   ]
  },
  {
   "cell_type": "code",
   "execution_count": null,
   "id": "complete-warrant",
   "metadata": {},
   "outputs": [],
   "source": []
  }
 ],
 "metadata": {
  "kernelspec": {
   "display_name": "Python 3",
   "language": "python",
   "name": "python3"
  },
  "language_info": {
   "codemirror_mode": {
    "name": "ipython",
    "version": 3
   },
   "file_extension": ".py",
   "mimetype": "text/x-python",
   "name": "python",
   "nbconvert_exporter": "python",
   "pygments_lexer": "ipython3",
   "version": "3.9.1"
  }
 },
 "nbformat": 4,
 "nbformat_minor": 5
}
