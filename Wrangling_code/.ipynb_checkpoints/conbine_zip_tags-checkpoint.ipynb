{
 "cells": [
  {
   "cell_type": "code",
   "execution_count": 1,
   "id": "promising-acceptance",
   "metadata": {},
   "outputs": [],
   "source": [
    "import os\n",
    "import pandas as pd\n",
    "from pandas import DataFrame\n",
    "from collections import defaultdict\n",
    "import ast\n",
    "import nltk\n",
    "from nltk.corpus import wordnet"
   ]
  },
  {
   "cell_type": "code",
   "execution_count": 2,
   "id": "baking-commercial",
   "metadata": {},
   "outputs": [],
   "source": [
    "demo_final = pd.read_csv(\"demographic_final.csv\",\n",
    "                         header = 0, index_col = 0)\n",
    "all_neighbors = pd.read_csv(\"all_neighbors_zip.csv\",\n",
    "                           header = 0)"
   ]
  },
  {
   "cell_type": "code",
   "execution_count": 3,
   "id": "golden-sessions",
   "metadata": {},
   "outputs": [],
   "source": [
    "unique_zip = set()\n",
    "for zip in demo_final['zipcode']:\n",
    "    unique_zip.add(zip)"
   ]
  },
  {
   "cell_type": "code",
   "execution_count": 4,
   "id": "nervous-society",
   "metadata": {},
   "outputs": [],
   "source": [
    "zip_list = []\n",
    "tag_list = []\n",
    "for zip in unique_zip:\n",
    "    sub_tags = []\n",
    "    for neighbor in all_neighbors[all_neighbors['zip_code'] == zip]['tags']:\n",
    "        try:\n",
    "            sub_tags.extend(ast.literal_eval(neighbor))\n",
    "        except TypeError:\n",
    "            pass\n",
    "        except ValueError:\n",
    "            pass\n",
    "    zip_list.append(zip)\n",
    "    tag_list.append(sub_tags)"
   ]
  },
  {
   "cell_type": "code",
   "execution_count": 5,
   "id": "valued-wholesale",
   "metadata": {},
   "outputs": [],
   "source": [
    "percent_list = []\n",
    "for tags in tag_list:\n",
    "    sub_percent = defaultdict(int)\n",
    "    total_tags = len(tags)\n",
    "    for word in tags:\n",
    "        sub_percent[word] += 1\n",
    "    for percent in sub_percent:\n",
    "        sub_percent[percent] = float(\"{:.4f}\".format(sub_percent[percent]/total_tags))\n",
    "    percent_list.append(dict(sub_percent))"
   ]
  },
  {
   "cell_type": "code",
   "execution_count": 6,
   "id": "naughty-moses",
   "metadata": {},
   "outputs": [],
   "source": [
    "percent_df = DataFrame({\"zip_code\":zip_list,\n",
    "                       \"tag_percentage\":percent_list})\n",
    "percent_df = percent_df.sort_values(by=['zip_code'])"
   ]
  },
  {
   "cell_type": "code",
   "execution_count": 7,
   "id": "grave-assault",
   "metadata": {},
   "outputs": [],
   "source": [
    "percent_df.to_csv(\"tag_percentage_by_zip.csv\",\n",
    "                  header = True, index = False)"
   ]
  },
  {
   "cell_type": "markdown",
   "id": "given-marathon",
   "metadata": {},
   "source": [
    "----------------------------------------"
   ]
  },
  {
   "cell_type": "code",
   "execution_count": 8,
   "id": "built-woman",
   "metadata": {},
   "outputs": [
    {
     "name": "stdout",
     "output_type": "stream",
     "text": [
      "Architecture\n",
      "Diversity\n",
      "Dog Friendly\n",
      "Gated\n",
      "Parks\n",
      "Privacy\n",
      "Schools\n",
      "Sidewalks\n",
      "Atmosphere\n",
      "Clean\n",
      "Friendly\n",
      "Family Friendly\n",
      "Walking\n",
      "Food\n",
      "Peaceful\n",
      "Clean\n",
      "Nice\n",
      "Parks\n",
      "Quiet\n",
      "Community\n"
     ]
    }
   ],
   "source": [
    "for word in tag_list[0]:\n",
    "    print(word)"
   ]
  },
  {
   "cell_type": "code",
   "execution_count": 9,
   "id": "removed-massachusetts",
   "metadata": {},
   "outputs": [
    {
     "name": "stdout",
     "output_type": "stream",
     "text": [
      "{'repose', 'muted', 'placid', 'silence', 'hush', 'tranquilize', 'tranquillise', 'quiesce', 'restrained', 'quiet_down', 'unruffled', 'smooth', 'serenity', 'lull', 'calm', 'placidity', 'hushed', 'pipe_down', 'tranquillize', 'still', 'calm_down', 'tranquility', 'quieten', 'subdued', 'tranquil', 'quiet', 'quietly', 'tranquillity'}\n"
     ]
    }
   ],
   "source": [
    "synonyms = []\n",
    "antonyms = []\n",
    "  \n",
    "for syn in wordnet.synsets(\"Quiet\"):\n",
    "    for l in syn.lemmas():\n",
    "        synonyms.append(l.name())\n",
    "        if l.antonyms():\n",
    "            antonyms.append(l.antonyms()[0].name())\n",
    "            \n",
    "print(set(synonyms))"
   ]
  },
  {
   "cell_type": "code",
   "execution_count": 10,
   "id": "liberal-acrobat",
   "metadata": {},
   "outputs": [
    {
     "name": "stdout",
     "output_type": "stream",
     "text": [
      "{'peaceful', 'passive', 'peaceable'}\n"
     ]
    }
   ],
   "source": [
    "synonyms = []\n",
    "antonyms = []\n",
    "  \n",
    "for syn in wordnet.synsets(\"Peaceful\"):\n",
    "    for l in syn.lemmas():\n",
    "        synonyms.append(l.name())\n",
    "        if l.antonyms():\n",
    "            antonyms.append(l.antonyms()[0].name())\n",
    "            \n",
    "print(set(synonyms))"
   ]
  },
  {
   "cell_type": "code",
   "execution_count": 11,
   "id": "cognitive-iceland",
   "metadata": {},
   "outputs": [
    {
     "name": "stdout",
     "output_type": "stream",
     "text": [
      "set()\n"
     ]
    }
   ],
   "source": [
    "synonyms = []\n",
    "antonyms = []\n",
    "  \n",
    "for syn in wordnet.synsets(\"Family Friendly\"):\n",
    "    for l in syn.lemmas():\n",
    "        synonyms.append(l.name())\n",
    "        if l.antonyms():\n",
    "            antonyms.append(l.antonyms()[0].name())\n",
    "            \n",
    "print(set(synonyms))"
   ]
  },
  {
   "cell_type": "code",
   "execution_count": null,
   "id": "jewish-essay",
   "metadata": {},
   "outputs": [],
   "source": []
  }
 ],
 "metadata": {
  "kernelspec": {
   "display_name": "Python 3",
   "language": "python",
   "name": "python3"
  },
  "language_info": {
   "codemirror_mode": {
    "name": "ipython",
    "version": 3
   },
   "file_extension": ".py",
   "mimetype": "text/x-python",
   "name": "python",
   "nbconvert_exporter": "python",
   "pygments_lexer": "ipython3",
   "version": "3.9.1"
  }
 },
 "nbformat": 4,
 "nbformat_minor": 5
}
