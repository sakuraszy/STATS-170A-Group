{
 "cells": [
  {
   "cell_type": "code",
   "execution_count": 1,
   "metadata": {},
   "outputs": [],
   "source": [
    "import pandas as pd"
   ]
  },
  {
   "cell_type": "code",
   "execution_count": 4,
   "metadata": {},
   "outputs": [],
   "source": [
    "df = pd.read_csv(\"/Users/shensakura/Desktop/Stats 170A/project/STATS-170A-Group/Data_in_process/school_general.csv\")"
   ]
  },
  {
   "cell_type": "code",
   "execution_count": 49,
   "metadata": {},
   "outputs": [],
   "source": [
    "df1 = df[df['isPrivate']== False].copy()"
   ]
  },
  {
   "cell_type": "code",
   "execution_count": 50,
   "metadata": {},
   "outputs": [
    {
     "data": {
      "text/plain": [
       "8        5\n",
       "12       6\n",
       "2        7\n",
       "11       9\n",
       "3       19\n",
       "1       23\n",
       "10      37\n",
       "4       40\n",
       "5       47\n",
       "7      284\n",
       "6      597\n",
       "9      917\n",
       "K     3454\n",
       "Name: lowGrade, dtype: int64"
      ]
     },
     "execution_count": 50,
     "metadata": {},
     "output_type": "execute_result"
    }
   ],
   "source": [
    "df1['lowGrade'].value_counts(ascending=True)"
   ]
  },
  {
   "cell_type": "code",
   "execution_count": 41,
   "metadata": {},
   "outputs": [
    {
     "data": {
      "text/plain": [
       "Adult Education       1\n",
       "Other               256\n",
       "Middle              764\n",
       "High               1165\n",
       "Elementary         3260\n",
       "Name: schoolLevel, dtype: int64"
      ]
     },
     "execution_count": 41,
     "metadata": {},
     "output_type": "execute_result"
    }
   ],
   "source": [
    "df1['schoolLevel'].value_counts(ascending=True)"
   ]
  },
  {
   "cell_type": "code",
   "execution_count": 47,
   "metadata": {},
   "outputs": [],
   "source": [
    "def check_ele(row):\n",
    "    if row['schoolLevel']==\"Elementary\":\n",
    "        return True\n",
    "    return False"
   ]
  },
  {
   "cell_type": "code",
   "execution_count": 55,
   "metadata": {},
   "outputs": [],
   "source": [
    "def check_mid(row):\n",
    "    if row['schoolLevel']==\"Middle\":\n",
    "        return True\n",
    "    return False"
   ]
  },
  {
   "cell_type": "code",
   "execution_count": 68,
   "metadata": {},
   "outputs": [],
   "source": [
    "def check_high(row):\n",
    "    if row['schoolLevel']==\"High\":\n",
    "        return True\n",
    "    return False"
   ]
  },
  {
   "cell_type": "code",
   "execution_count": 66,
   "metadata": {},
   "outputs": [],
   "source": [
    "df1['has_elementary']= df1.apply(check_ele, axis=1)"
   ]
  },
  {
   "cell_type": "code",
   "execution_count": 67,
   "metadata": {},
   "outputs": [],
   "source": [
    "df1['has_middle']= df1.apply(check_mid, axis=1)"
   ]
  },
  {
   "cell_type": "code",
   "execution_count": 69,
   "metadata": {},
   "outputs": [],
   "source": [
    "df1['has_high']= df1.apply(check_high, axis=1)"
   ]
  },
  {
   "cell_type": "code",
   "execution_count": 33,
   "metadata": {},
   "outputs": [],
   "source": [
    "df2 = df1[df1['Elementary']== \"K\"]"
   ]
  },
  {
   "cell_type": "code",
   "execution_count": 65,
   "metadata": {},
   "outputs": [
    {
     "data": {
      "text/html": [
       "<div>\n",
       "<style scoped>\n",
       "    .dataframe tbody tr th:only-of-type {\n",
       "        vertical-align: middle;\n",
       "    }\n",
       "\n",
       "    .dataframe tbody tr th {\n",
       "        vertical-align: top;\n",
       "    }\n",
       "\n",
       "    .dataframe thead th {\n",
       "        text-align: right;\n",
       "    }\n",
       "</style>\n",
       "<table border=\"1\" class=\"dataframe\">\n",
       "  <thead>\n",
       "    <tr style=\"text-align: right;\">\n",
       "      <th></th>\n",
       "      <th>schoolid</th>\n",
       "      <th>schoolName</th>\n",
       "      <th>city</th>\n",
       "      <th>zip</th>\n",
       "      <th>lowGrade</th>\n",
       "      <th>highGrade</th>\n",
       "      <th>schoolLevel</th>\n",
       "      <th>isCharterSchool</th>\n",
       "      <th>isMagnetSchool</th>\n",
       "      <th>isVirtualSchool</th>\n",
       "      <th>isTitleISchool</th>\n",
       "      <th>rank</th>\n",
       "      <th>rankOf</th>\n",
       "      <th>rankStars</th>\n",
       "      <th>rankLevel</th>\n",
       "      <th>rankStatewidePercentage</th>\n",
       "      <th>averageStandardScore</th>\n",
       "      <th>isPrivate</th>\n",
       "      <th>has_elementary</th>\n",
       "      <th>has_middle</th>\n",
       "    </tr>\n",
       "  </thead>\n",
       "  <tbody>\n",
       "    <tr>\n",
       "      <td>3376</td>\n",
       "      <td>60010910922</td>\n",
       "      <td>Los Angeles Unified School District Regional O...</td>\n",
       "      <td>Los Angeles</td>\n",
       "      <td>90017</td>\n",
       "      <td>NaN</td>\n",
       "      <td>NaN</td>\n",
       "      <td>Adult Education</td>\n",
       "      <td>No</td>\n",
       "      <td>(n/a)</td>\n",
       "      <td>(n/a)</td>\n",
       "      <td>(n/a)</td>\n",
       "      <td>NaN</td>\n",
       "      <td>NaN</td>\n",
       "      <td>NaN</td>\n",
       "      <td>NaN</td>\n",
       "      <td>NaN</td>\n",
       "      <td>NaN</td>\n",
       "      <td>False</td>\n",
       "      <td>False</td>\n",
       "      <td>False</td>\n",
       "    </tr>\n",
       "  </tbody>\n",
       "</table>\n",
       "</div>"
      ],
      "text/plain": [
       "         schoolid                                         schoolName  \\\n",
       "3376  60010910922  Los Angeles Unified School District Regional O...   \n",
       "\n",
       "             city    zip lowGrade highGrade      schoolLevel isCharterSchool  \\\n",
       "3376  Los Angeles  90017      NaN       NaN  Adult Education              No   \n",
       "\n",
       "     isMagnetSchool isVirtualSchool isTitleISchool  rank  rankOf  rankStars  \\\n",
       "3376          (n/a)           (n/a)          (n/a)   NaN     NaN        NaN   \n",
       "\n",
       "     rankLevel  rankStatewidePercentage  averageStandardScore  isPrivate  \\\n",
       "3376       NaN                      NaN                   NaN      False   \n",
       "\n",
       "      has_elementary  has_middle  \n",
       "3376           False       False  "
      ]
     },
     "execution_count": 65,
     "metadata": {},
     "output_type": "execute_result"
    }
   ],
   "source": [
    "df1[df1['schoolLevel']== \"Adult Education\"]"
   ]
  },
  {
   "cell_type": "code",
   "execution_count": 77,
   "metadata": {},
   "outputs": [],
   "source": [
    "df2 = df1.groupby(\"zip\").mean().copy()"
   ]
  },
  {
   "cell_type": "code",
   "execution_count": 85,
   "metadata": {},
   "outputs": [],
   "source": [
    "df2.loc[(df2.has_elementary >0),'has_elementary']= True\n",
    "df2.loc[(df2.has_elementary ==0),'has_elementary']= False"
   ]
  },
  {
   "cell_type": "code",
   "execution_count": 87,
   "metadata": {},
   "outputs": [],
   "source": [
    "df2.loc[(df2.has_middle >0),'has_middle']= True\n",
    "df2.loc[(df2.has_middle ==0),'has_middle']= False\n",
    "df2.loc[(df2.has_high >0),'has_high']= True\n",
    "df2.loc[(df2.has_high ==0),'has_high']= False"
   ]
  },
  {
   "cell_type": "code",
   "execution_count": 82,
   "metadata": {},
   "outputs": [
    {
     "data": {
      "text/plain": [
       "0       0.0\n",
       "1       4.0\n",
       "2       4.0\n",
       "3       3.0\n",
       "4       4.0\n",
       "       ... \n",
       "6834    0.0\n",
       "6835    1.0\n",
       "6836    0.0\n",
       "6837    1.0\n",
       "6838    3.0\n",
       "Name: rankStars, Length: 5539, dtype: float64"
      ]
     },
     "execution_count": 82,
     "metadata": {},
     "output_type": "execute_result"
    }
   ],
   "source": [
    "df1['rankStars']"
   ]
  },
  {
   "cell_type": "code",
   "execution_count": 89,
   "metadata": {},
   "outputs": [],
   "source": [
    "df2.to_csv('school_final.csv')"
   ]
  },
  {
   "cell_type": "code",
   "execution_count": null,
   "metadata": {},
   "outputs": [],
   "source": []
  }
 ],
 "metadata": {
  "kernelspec": {
   "display_name": "Python 3",
   "language": "python",
   "name": "python3"
  },
  "language_info": {
   "codemirror_mode": {
    "name": "ipython",
    "version": 3
   },
   "file_extension": ".py",
   "mimetype": "text/x-python",
   "name": "python",
   "nbconvert_exporter": "python",
   "pygments_lexer": "ipython3",
   "version": "3.7.4"
  }
 },
 "nbformat": 4,
 "nbformat_minor": 4
}
