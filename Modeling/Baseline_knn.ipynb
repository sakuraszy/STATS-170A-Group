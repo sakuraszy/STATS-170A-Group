{
 "cells": [
  {
   "cell_type": "code",
   "execution_count": 1,
   "id": "alleged-matrix",
   "metadata": {},
   "outputs": [],
   "source": [
    "import numpy as np\n",
    "import pandas as pd\n",
    "import matplotlib.pyplot as plt\n",
    "\n",
    "from sklearn.neighbors import KNeighborsRegressor\n",
    "from sklearn.model_selection import train_test_split\n",
    "from sklearn.preprocessing import StandardScaler\n",
    "from sklearn.metrics import mean_squared_error\n",
    "from math import sqrt"
   ]
  },
  {
   "cell_type": "code",
   "execution_count": 2,
   "id": "fuzzy-italy",
   "metadata": {},
   "outputs": [
    {
     "data": {
      "text/html": [
       "<div>\n",
       "<style scoped>\n",
       "    .dataframe tbody tr th:only-of-type {\n",
       "        vertical-align: middle;\n",
       "    }\n",
       "\n",
       "    .dataframe tbody tr th {\n",
       "        vertical-align: top;\n",
       "    }\n",
       "\n",
       "    .dataframe thead th {\n",
       "        text-align: right;\n",
       "    }\n",
       "</style>\n",
       "<table border=\"1\" class=\"dataframe\">\n",
       "  <thead>\n",
       "    <tr style=\"text-align: right;\">\n",
       "      <th></th>\n",
       "      <th>price</th>\n",
       "      <th>year_built</th>\n",
       "      <th>is_new_construction</th>\n",
       "      <th>beds</th>\n",
       "      <th>baths</th>\n",
       "      <th>baths_beds_ratio</th>\n",
       "      <th>garage</th>\n",
       "      <th>lot_size</th>\n",
       "      <th>building_size</th>\n",
       "      <th>population</th>\n",
       "      <th>...</th>\n",
       "      <th>hhi_200k_or_more</th>\n",
       "      <th>race_and_ethnicity_total</th>\n",
       "      <th>population_density_sq_mi</th>\n",
       "      <th>median_age</th>\n",
       "      <th>educational_attainment_bachelors</th>\n",
       "      <th>educational_attainment_graduate</th>\n",
       "      <th>family_poverty_pct</th>\n",
       "      <th>unemployment_pct</th>\n",
       "      <th>housing_units</th>\n",
       "      <th>median_value_of_owner_occupied_units</th>\n",
       "    </tr>\n",
       "    <tr>\n",
       "      <th>zipcode</th>\n",
       "      <th></th>\n",
       "      <th></th>\n",
       "      <th></th>\n",
       "      <th></th>\n",
       "      <th></th>\n",
       "      <th></th>\n",
       "      <th></th>\n",
       "      <th></th>\n",
       "      <th></th>\n",
       "      <th></th>\n",
       "      <th></th>\n",
       "      <th></th>\n",
       "      <th></th>\n",
       "      <th></th>\n",
       "      <th></th>\n",
       "      <th></th>\n",
       "      <th></th>\n",
       "      <th></th>\n",
       "      <th></th>\n",
       "      <th></th>\n",
       "      <th></th>\n",
       "    </tr>\n",
       "  </thead>\n",
       "  <tbody>\n",
       "    <tr>\n",
       "      <th>90001</th>\n",
       "      <td>570000</td>\n",
       "      <td>1906</td>\n",
       "      <td>0</td>\n",
       "      <td>3</td>\n",
       "      <td>2.0</td>\n",
       "      <td>0.6667</td>\n",
       "      <td>3</td>\n",
       "      <td>7057</td>\n",
       "      <td>1756</td>\n",
       "      <td>3966936</td>\n",
       "      <td>...</td>\n",
       "      <td>97</td>\n",
       "      <td>59832</td>\n",
       "      <td>17090.0</td>\n",
       "      <td>29.1</td>\n",
       "      <td>0.048</td>\n",
       "      <td>0.008</td>\n",
       "      <td>0.2329</td>\n",
       "      <td>0.087</td>\n",
       "      <td>14174</td>\n",
       "      <td>359000</td>\n",
       "    </tr>\n",
       "    <tr>\n",
       "      <th>90001</th>\n",
       "      <td>470000</td>\n",
       "      <td>1913</td>\n",
       "      <td>0</td>\n",
       "      <td>3</td>\n",
       "      <td>1.5</td>\n",
       "      <td>0.5000</td>\n",
       "      <td>1</td>\n",
       "      <td>5721</td>\n",
       "      <td>1030</td>\n",
       "      <td>3966936</td>\n",
       "      <td>...</td>\n",
       "      <td>97</td>\n",
       "      <td>59832</td>\n",
       "      <td>17090.0</td>\n",
       "      <td>29.1</td>\n",
       "      <td>0.048</td>\n",
       "      <td>0.008</td>\n",
       "      <td>0.2329</td>\n",
       "      <td>0.087</td>\n",
       "      <td>14174</td>\n",
       "      <td>359000</td>\n",
       "    </tr>\n",
       "    <tr>\n",
       "      <th>90001</th>\n",
       "      <td>830000</td>\n",
       "      <td>1938</td>\n",
       "      <td>0</td>\n",
       "      <td>3</td>\n",
       "      <td>2.0</td>\n",
       "      <td>0.6667</td>\n",
       "      <td>2</td>\n",
       "      <td>5495</td>\n",
       "      <td>2503</td>\n",
       "      <td>3966936</td>\n",
       "      <td>...</td>\n",
       "      <td>97</td>\n",
       "      <td>59832</td>\n",
       "      <td>17090.0</td>\n",
       "      <td>29.1</td>\n",
       "      <td>0.048</td>\n",
       "      <td>0.008</td>\n",
       "      <td>0.2329</td>\n",
       "      <td>0.087</td>\n",
       "      <td>14174</td>\n",
       "      <td>359000</td>\n",
       "    </tr>\n",
       "    <tr>\n",
       "      <th>90001</th>\n",
       "      <td>400000</td>\n",
       "      <td>1905</td>\n",
       "      <td>0</td>\n",
       "      <td>4</td>\n",
       "      <td>2.0</td>\n",
       "      <td>0.5000</td>\n",
       "      <td>2</td>\n",
       "      <td>5387</td>\n",
       "      <td>1248</td>\n",
       "      <td>3966936</td>\n",
       "      <td>...</td>\n",
       "      <td>97</td>\n",
       "      <td>59832</td>\n",
       "      <td>17090.0</td>\n",
       "      <td>29.1</td>\n",
       "      <td>0.048</td>\n",
       "      <td>0.008</td>\n",
       "      <td>0.2329</td>\n",
       "      <td>0.087</td>\n",
       "      <td>14174</td>\n",
       "      <td>359000</td>\n",
       "    </tr>\n",
       "    <tr>\n",
       "      <th>90001</th>\n",
       "      <td>659000</td>\n",
       "      <td>1912</td>\n",
       "      <td>0</td>\n",
       "      <td>5</td>\n",
       "      <td>2.0</td>\n",
       "      <td>0.4000</td>\n",
       "      <td>2</td>\n",
       "      <td>5667</td>\n",
       "      <td>1897</td>\n",
       "      <td>3966936</td>\n",
       "      <td>...</td>\n",
       "      <td>97</td>\n",
       "      <td>59832</td>\n",
       "      <td>17090.0</td>\n",
       "      <td>29.1</td>\n",
       "      <td>0.048</td>\n",
       "      <td>0.008</td>\n",
       "      <td>0.2329</td>\n",
       "      <td>0.087</td>\n",
       "      <td>14174</td>\n",
       "      <td>359000</td>\n",
       "    </tr>\n",
       "    <tr>\n",
       "      <th>...</th>\n",
       "      <td>...</td>\n",
       "      <td>...</td>\n",
       "      <td>...</td>\n",
       "      <td>...</td>\n",
       "      <td>...</td>\n",
       "      <td>...</td>\n",
       "      <td>...</td>\n",
       "      <td>...</td>\n",
       "      <td>...</td>\n",
       "      <td>...</td>\n",
       "      <td>...</td>\n",
       "      <td>...</td>\n",
       "      <td>...</td>\n",
       "      <td>...</td>\n",
       "      <td>...</td>\n",
       "      <td>...</td>\n",
       "      <td>...</td>\n",
       "      <td>...</td>\n",
       "      <td>...</td>\n",
       "      <td>...</td>\n",
       "      <td>...</td>\n",
       "    </tr>\n",
       "    <tr>\n",
       "      <th>96003</th>\n",
       "      <td>275000</td>\n",
       "      <td>2006</td>\n",
       "      <td>0</td>\n",
       "      <td>3</td>\n",
       "      <td>2.5</td>\n",
       "      <td>0.8333</td>\n",
       "      <td>2</td>\n",
       "      <td>2614</td>\n",
       "      <td>1430</td>\n",
       "      <td>91580</td>\n",
       "      <td>...</td>\n",
       "      <td>844</td>\n",
       "      <td>44328</td>\n",
       "      <td>186.6</td>\n",
       "      <td>40.8</td>\n",
       "      <td>0.172</td>\n",
       "      <td>0.082</td>\n",
       "      <td>0.1121</td>\n",
       "      <td>0.050</td>\n",
       "      <td>19871</td>\n",
       "      <td>262000</td>\n",
       "    </tr>\n",
       "    <tr>\n",
       "      <th>96003</th>\n",
       "      <td>899000</td>\n",
       "      <td>1972</td>\n",
       "      <td>0</td>\n",
       "      <td>3</td>\n",
       "      <td>2.0</td>\n",
       "      <td>0.6667</td>\n",
       "      <td>2</td>\n",
       "      <td>1146783</td>\n",
       "      <td>3550</td>\n",
       "      <td>91580</td>\n",
       "      <td>...</td>\n",
       "      <td>844</td>\n",
       "      <td>44328</td>\n",
       "      <td>186.6</td>\n",
       "      <td>40.8</td>\n",
       "      <td>0.172</td>\n",
       "      <td>0.082</td>\n",
       "      <td>0.1121</td>\n",
       "      <td>0.050</td>\n",
       "      <td>19871</td>\n",
       "      <td>262000</td>\n",
       "    </tr>\n",
       "    <tr>\n",
       "      <th>96003</th>\n",
       "      <td>483500</td>\n",
       "      <td>1977</td>\n",
       "      <td>0</td>\n",
       "      <td>3</td>\n",
       "      <td>2.0</td>\n",
       "      <td>0.6667</td>\n",
       "      <td>5</td>\n",
       "      <td>89734</td>\n",
       "      <td>2552</td>\n",
       "      <td>91580</td>\n",
       "      <td>...</td>\n",
       "      <td>844</td>\n",
       "      <td>44328</td>\n",
       "      <td>186.6</td>\n",
       "      <td>40.8</td>\n",
       "      <td>0.172</td>\n",
       "      <td>0.082</td>\n",
       "      <td>0.1121</td>\n",
       "      <td>0.050</td>\n",
       "      <td>19871</td>\n",
       "      <td>262000</td>\n",
       "    </tr>\n",
       "    <tr>\n",
       "      <th>96003</th>\n",
       "      <td>345000</td>\n",
       "      <td>1984</td>\n",
       "      <td>0</td>\n",
       "      <td>4</td>\n",
       "      <td>3.0</td>\n",
       "      <td>0.7500</td>\n",
       "      <td>4</td>\n",
       "      <td>87120</td>\n",
       "      <td>2040</td>\n",
       "      <td>91580</td>\n",
       "      <td>...</td>\n",
       "      <td>844</td>\n",
       "      <td>44328</td>\n",
       "      <td>186.6</td>\n",
       "      <td>40.8</td>\n",
       "      <td>0.172</td>\n",
       "      <td>0.082</td>\n",
       "      <td>0.1121</td>\n",
       "      <td>0.050</td>\n",
       "      <td>19871</td>\n",
       "      <td>262000</td>\n",
       "    </tr>\n",
       "    <tr>\n",
       "      <th>96003</th>\n",
       "      <td>105000</td>\n",
       "      <td>1972</td>\n",
       "      <td>0</td>\n",
       "      <td>3</td>\n",
       "      <td>2.0</td>\n",
       "      <td>0.6667</td>\n",
       "      <td>2</td>\n",
       "      <td>120661</td>\n",
       "      <td>0</td>\n",
       "      <td>91580</td>\n",
       "      <td>...</td>\n",
       "      <td>844</td>\n",
       "      <td>44328</td>\n",
       "      <td>186.6</td>\n",
       "      <td>40.8</td>\n",
       "      <td>0.172</td>\n",
       "      <td>0.082</td>\n",
       "      <td>0.1121</td>\n",
       "      <td>0.050</td>\n",
       "      <td>19871</td>\n",
       "      <td>262000</td>\n",
       "    </tr>\n",
       "  </tbody>\n",
       "</table>\n",
       "<p>97230 rows × 29 columns</p>\n",
       "</div>"
      ],
      "text/plain": [
       "          price  year_built  is_new_construction  beds  baths  \\\n",
       "zipcode                                                         \n",
       "90001    570000        1906                    0     3    2.0   \n",
       "90001    470000        1913                    0     3    1.5   \n",
       "90001    830000        1938                    0     3    2.0   \n",
       "90001    400000        1905                    0     4    2.0   \n",
       "90001    659000        1912                    0     5    2.0   \n",
       "...         ...         ...                  ...   ...    ...   \n",
       "96003    275000        2006                    0     3    2.5   \n",
       "96003    899000        1972                    0     3    2.0   \n",
       "96003    483500        1977                    0     3    2.0   \n",
       "96003    345000        1984                    0     4    3.0   \n",
       "96003    105000        1972                    0     3    2.0   \n",
       "\n",
       "         baths_beds_ratio  garage  lot_size  building_size  population  ...  \\\n",
       "zipcode                                                                 ...   \n",
       "90001              0.6667       3      7057           1756     3966936  ...   \n",
       "90001              0.5000       1      5721           1030     3966936  ...   \n",
       "90001              0.6667       2      5495           2503     3966936  ...   \n",
       "90001              0.5000       2      5387           1248     3966936  ...   \n",
       "90001              0.4000       2      5667           1897     3966936  ...   \n",
       "...                   ...     ...       ...            ...         ...  ...   \n",
       "96003              0.8333       2      2614           1430       91580  ...   \n",
       "96003              0.6667       2   1146783           3550       91580  ...   \n",
       "96003              0.6667       5     89734           2552       91580  ...   \n",
       "96003              0.7500       4     87120           2040       91580  ...   \n",
       "96003              0.6667       2    120661              0       91580  ...   \n",
       "\n",
       "         hhi_200k_or_more  race_and_ethnicity_total  population_density_sq_mi  \\\n",
       "zipcode                                                                         \n",
       "90001                  97                     59832                   17090.0   \n",
       "90001                  97                     59832                   17090.0   \n",
       "90001                  97                     59832                   17090.0   \n",
       "90001                  97                     59832                   17090.0   \n",
       "90001                  97                     59832                   17090.0   \n",
       "...                   ...                       ...                       ...   \n",
       "96003                 844                     44328                     186.6   \n",
       "96003                 844                     44328                     186.6   \n",
       "96003                 844                     44328                     186.6   \n",
       "96003                 844                     44328                     186.6   \n",
       "96003                 844                     44328                     186.6   \n",
       "\n",
       "         median_age  educational_attainment_bachelors  \\\n",
       "zipcode                                                 \n",
       "90001          29.1                             0.048   \n",
       "90001          29.1                             0.048   \n",
       "90001          29.1                             0.048   \n",
       "90001          29.1                             0.048   \n",
       "90001          29.1                             0.048   \n",
       "...             ...                               ...   \n",
       "96003          40.8                             0.172   \n",
       "96003          40.8                             0.172   \n",
       "96003          40.8                             0.172   \n",
       "96003          40.8                             0.172   \n",
       "96003          40.8                             0.172   \n",
       "\n",
       "         educational_attainment_graduate  family_poverty_pct  \\\n",
       "zipcode                                                        \n",
       "90001                              0.008              0.2329   \n",
       "90001                              0.008              0.2329   \n",
       "90001                              0.008              0.2329   \n",
       "90001                              0.008              0.2329   \n",
       "90001                              0.008              0.2329   \n",
       "...                                  ...                 ...   \n",
       "96003                              0.082              0.1121   \n",
       "96003                              0.082              0.1121   \n",
       "96003                              0.082              0.1121   \n",
       "96003                              0.082              0.1121   \n",
       "96003                              0.082              0.1121   \n",
       "\n",
       "         unemployment_pct  housing_units  median_value_of_owner_occupied_units  \n",
       "zipcode                                                                         \n",
       "90001               0.087          14174                                359000  \n",
       "90001               0.087          14174                                359000  \n",
       "90001               0.087          14174                                359000  \n",
       "90001               0.087          14174                                359000  \n",
       "90001               0.087          14174                                359000  \n",
       "...                   ...            ...                                   ...  \n",
       "96003               0.050          19871                                262000  \n",
       "96003               0.050          19871                                262000  \n",
       "96003               0.050          19871                                262000  \n",
       "96003               0.050          19871                                262000  \n",
       "96003               0.050          19871                                262000  \n",
       "\n",
       "[97230 rows x 29 columns]"
      ]
     },
     "execution_count": 2,
     "metadata": {},
     "output_type": "execute_result"
    }
   ],
   "source": [
    "data = pd.read_csv(\"../Data_final/demo_and_housing.csv\", index_col=0)\n",
    "data = data.select_dtypes(include='number')\n",
    "data.insert(0, 'price', data.pop('price'))\n",
    "data"
   ]
  },
  {
   "cell_type": "code",
   "execution_count": 3,
   "id": "compressed-mortality",
   "metadata": {},
   "outputs": [
    {
     "data": {
      "text/plain": [
       "array([[1.9060e+03, 0.0000e+00, 3.0000e+00, ..., 8.7000e-02, 1.4174e+04,\n",
       "        3.5900e+05],\n",
       "       [1.9130e+03, 0.0000e+00, 3.0000e+00, ..., 8.7000e-02, 1.4174e+04,\n",
       "        3.5900e+05],\n",
       "       [1.9380e+03, 0.0000e+00, 3.0000e+00, ..., 8.7000e-02, 1.4174e+04,\n",
       "        3.5900e+05],\n",
       "       ...,\n",
       "       [1.9770e+03, 0.0000e+00, 3.0000e+00, ..., 5.0000e-02, 1.9871e+04,\n",
       "        2.6200e+05],\n",
       "       [1.9840e+03, 0.0000e+00, 4.0000e+00, ..., 5.0000e-02, 1.9871e+04,\n",
       "        2.6200e+05],\n",
       "       [1.9720e+03, 0.0000e+00, 3.0000e+00, ..., 5.0000e-02, 1.9871e+04,\n",
       "        2.6200e+05]])"
      ]
     },
     "execution_count": 3,
     "metadata": {},
     "output_type": "execute_result"
    }
   ],
   "source": [
    "X = data.iloc[:, 1:].values\n",
    "y = data.iloc[:, 0].values\n",
    "X"
   ]
  },
  {
   "cell_type": "code",
   "execution_count": 4,
   "id": "informational-retro",
   "metadata": {},
   "outputs": [
    {
     "data": {
      "text/plain": [
       "array([570000, 470000, 830000, ..., 483500, 345000, 105000])"
      ]
     },
     "execution_count": 4,
     "metadata": {},
     "output_type": "execute_result"
    }
   ],
   "source": [
    "y"
   ]
  },
  {
   "cell_type": "code",
   "execution_count": 5,
   "id": "cheap-waste",
   "metadata": {},
   "outputs": [],
   "source": [
    "X_train, X_test, y_train, y_test = train_test_split(X, y, test_size=0.20)"
   ]
  },
  {
   "cell_type": "code",
   "execution_count": 6,
   "id": "noble-chain",
   "metadata": {},
   "outputs": [],
   "source": [
    "scaler = StandardScaler()\n",
    "scaler.fit(X_train)\n",
    "\n",
    "X_train = scaler.transform(X_train)\n",
    "X_test = scaler.transform(X_test)"
   ]
  },
  {
   "cell_type": "code",
   "execution_count": 7,
   "id": "naval-mediterranean",
   "metadata": {},
   "outputs": [
    {
     "name": "stdout",
     "output_type": "stream",
     "text": [
      "1\n",
      "train rmse is: 62368.1709537411\n",
      "test rmse is: 6771386.605162876\n",
      "2\n",
      "train rmse is: 3696954.5476981085\n",
      "test rmse is: 3775563.71645978\n",
      "3\n",
      "train rmse is: 4323304.298448067\n",
      "test rmse is: 2939239.6373804375\n",
      "4\n",
      "train rmse is: 4411372.600653694\n",
      "test rmse is: 2473892.848595409\n",
      "5\n",
      "train rmse is: 4546531.491609646\n",
      "test rmse is: 2607741.7448088885\n",
      "6\n",
      "train rmse is: 4750879.784191351\n",
      "test rmse is: 2382807.074730814\n",
      "7\n",
      "train rmse is: 4852234.752663922\n",
      "test rmse is: 2533108.9227899876\n",
      "8\n",
      "train rmse is: 4907469.34259636\n",
      "test rmse is: 2589220.769751822\n",
      "9\n",
      "train rmse is: 4945441.8491722\n",
      "test rmse is: 2541612.179375136\n",
      "10\n",
      "train rmse is: 5011646.229830002\n",
      "test rmse is: 2417305.883302834\n"
     ]
    }
   ],
   "source": [
    "neighbors = np.arange(1, 11)\n",
    "train_rmse = np.empty(len(neighbors))\n",
    "test_rmse = np.empty(len(neighbors))\n",
    "  \n",
    "\n",
    "for i, k in enumerate(neighbors):\n",
    "    knn = KNeighborsRegressor(n_neighbors=k)\n",
    "    knn.fit(X_train, y_train)\n",
    "      \n",
    "    # Compute traning and test data accuracy\n",
    "    train_pred = knn.predict(X_train)\n",
    "    test_pred = knn.predict(X_test)\n",
    "    train_error = sqrt(mean_squared_error(y_train, train_pred))\n",
    "    test_error = sqrt(mean_squared_error(y_test,test_pred))\n",
    "    train_rmse[i] = train_error\n",
    "    test_rmse[i] = test_error\n",
    "    print(k)\n",
    "    print('train rmse is: ' + str(train_error))\n",
    "    print('test rmse is: ' + str(test_error))\n",
    "    "
   ]
  },
  {
   "cell_type": "code",
   "execution_count": 8,
   "id": "extreme-measurement",
   "metadata": {},
   "outputs": [
    {
     "data": {
      "image/png": "[encoded data removed]",
      "text/plain": [
       "<Figure size 432x288 with 1 Axes>"
      ]
     },
     "metadata": {
      "needs_background": "light"
     },
     "output_type": "display_data"
    }
   ],
   "source": [
    "plt.plot(neighbors, test_rmse, label = 'Testing dataset RMSE')\n",
    "plt.plot(neighbors, train_rmse, label = 'Training dataset RMSE')\n",
    "  \n",
    "plt.legend()\n",
    "plt.xlabel('n_neighbors')\n",
    "plt.ylabel('RMSE')\n",
    "plt.show()"
   ]
  },
  {
   "cell_type": "code",
   "execution_count": 9,
   "id": "written-conviction",
   "metadata": {},
   "outputs": [],
   "source": [
    "from sklearn.linear_model import LinearRegression"
   ]
  },
  {
   "cell_type": "code",
   "execution_count": 10,
   "id": "cooperative-queue",
   "metadata": {},
   "outputs": [
    {
     "name": "stdout",
     "output_type": "stream",
     "text": [
      "0.05084934292710619\n"
     ]
    }
   ],
   "source": [
    "regr = LinearRegression()\n",
    "  \n",
    "regr.fit(X_train, y_train)\n",
    "print(regr.score(X_test, y_test))"
   ]
  },
  {
   "cell_type": "code",
   "execution_count": 11,
   "id": "attended-mason",
   "metadata": {},
   "outputs": [
    {
     "ename": "ValueError",
     "evalue": "x and y must be the same size",
     "output_type": "error",
     "traceback": [
      "\u001b[0;31m---------------------------------------------------------------------------\u001b[0m",
      "\u001b[0;31mValueError\u001b[0m                                Traceback (most recent call last)",
      "\u001b[0;32m<ipython-input-11-a96a68ee9d53>\u001b[0m in \u001b[0;36m<module>\u001b[0;34m\u001b[0m\n\u001b[1;32m      1\u001b[0m \u001b[0my_pred\u001b[0m \u001b[0;34m=\u001b[0m \u001b[0mregr\u001b[0m\u001b[0;34m.\u001b[0m\u001b[0mpredict\u001b[0m\u001b[0;34m(\u001b[0m\u001b[0mX_test\u001b[0m\u001b[0;34m)\u001b[0m\u001b[0;34m\u001b[0m\u001b[0;34m\u001b[0m\u001b[0m\n\u001b[0;32m----> 2\u001b[0;31m \u001b[0mplt\u001b[0m\u001b[0;34m.\u001b[0m\u001b[0mscatter\u001b[0m\u001b[0;34m(\u001b[0m\u001b[0mX_test\u001b[0m\u001b[0;34m,\u001b[0m \u001b[0my_test\u001b[0m\u001b[0;34m,\u001b[0m \u001b[0mcolor\u001b[0m \u001b[0;34m=\u001b[0m\u001b[0;34m'b'\u001b[0m\u001b[0;34m)\u001b[0m\u001b[0;34m\u001b[0m\u001b[0;34m\u001b[0m\u001b[0m\n\u001b[0m\u001b[1;32m      3\u001b[0m \u001b[0mplt\u001b[0m\u001b[0;34m.\u001b[0m\u001b[0mplot\u001b[0m\u001b[0;34m(\u001b[0m\u001b[0mX_test\u001b[0m\u001b[0;34m,\u001b[0m \u001b[0my_pred\u001b[0m\u001b[0;34m,\u001b[0m \u001b[0mcolor\u001b[0m \u001b[0;34m=\u001b[0m\u001b[0;34m'k'\u001b[0m\u001b[0;34m)\u001b[0m\u001b[0;34m\u001b[0m\u001b[0;34m\u001b[0m\u001b[0m\n\u001b[1;32m      4\u001b[0m \u001b[0;34m\u001b[0m\u001b[0m\n\u001b[1;32m      5\u001b[0m \u001b[0mplt\u001b[0m\u001b[0;34m.\u001b[0m\u001b[0mshow\u001b[0m\u001b[0;34m(\u001b[0m\u001b[0;34m)\u001b[0m\u001b[0;34m\u001b[0m\u001b[0;34m\u001b[0m\u001b[0m\n",
      "\u001b[0;32m/Library/Frameworks/Python.framework/Versions/3.9/lib/python3.9/site-packages/matplotlib/pyplot.py\u001b[0m in \u001b[0;36mscatter\u001b[0;34m(x, y, s, c, marker, cmap, norm, vmin, vmax, alpha, linewidths, edgecolors, plotnonfinite, data, **kwargs)\u001b[0m\n\u001b[1;32m   3035\u001b[0m         \u001b[0mvmin\u001b[0m\u001b[0;34m=\u001b[0m\u001b[0;32mNone\u001b[0m\u001b[0;34m,\u001b[0m \u001b[0mvmax\u001b[0m\u001b[0;34m=\u001b[0m\u001b[0;32mNone\u001b[0m\u001b[0;34m,\u001b[0m \u001b[0malpha\u001b[0m\u001b[0;34m=\u001b[0m\u001b[0;32mNone\u001b[0m\u001b[0;34m,\u001b[0m \u001b[0mlinewidths\u001b[0m\u001b[0;34m=\u001b[0m\u001b[0;32mNone\u001b[0m\u001b[0;34m,\u001b[0m \u001b[0;34m*\u001b[0m\u001b[0;34m,\u001b[0m\u001b[0;34m\u001b[0m\u001b[0;34m\u001b[0m\u001b[0m\n\u001b[1;32m   3036\u001b[0m         edgecolors=None, plotnonfinite=False, data=None, **kwargs):\n\u001b[0;32m-> 3037\u001b[0;31m     __ret = gca().scatter(\n\u001b[0m\u001b[1;32m   3038\u001b[0m         \u001b[0mx\u001b[0m\u001b[0;34m,\u001b[0m \u001b[0my\u001b[0m\u001b[0;34m,\u001b[0m \u001b[0ms\u001b[0m\u001b[0;34m=\u001b[0m\u001b[0ms\u001b[0m\u001b[0;34m,\u001b[0m \u001b[0mc\u001b[0m\u001b[0;34m=\u001b[0m\u001b[0mc\u001b[0m\u001b[0;34m,\u001b[0m \u001b[0mmarker\u001b[0m\u001b[0;34m=\u001b[0m\u001b[0mmarker\u001b[0m\u001b[0;34m,\u001b[0m \u001b[0mcmap\u001b[0m\u001b[0;34m=\u001b[0m\u001b[0mcmap\u001b[0m\u001b[0;34m,\u001b[0m \u001b[0mnorm\u001b[0m\u001b[0;34m=\u001b[0m\u001b[0mnorm\u001b[0m\u001b[0;34m,\u001b[0m\u001b[0;34m\u001b[0m\u001b[0;34m\u001b[0m\u001b[0m\n\u001b[1;32m   3039\u001b[0m         \u001b[0mvmin\u001b[0m\u001b[0;34m=\u001b[0m\u001b[0mvmin\u001b[0m\u001b[0;34m,\u001b[0m \u001b[0mvmax\u001b[0m\u001b[0;34m=\u001b[0m\u001b[0mvmax\u001b[0m\u001b[0;34m,\u001b[0m \u001b[0malpha\u001b[0m\u001b[0;34m=\u001b[0m\u001b[0malpha\u001b[0m\u001b[0;34m,\u001b[0m \u001b[0mlinewidths\u001b[0m\u001b[0;34m=\u001b[0m\u001b[0mlinewidths\u001b[0m\u001b[0;34m,\u001b[0m\u001b[0;34m\u001b[0m\u001b[0;34m\u001b[0m\u001b[0m\n",
      "\u001b[0;32m/Library/Frameworks/Python.framework/Versions/3.9/lib/python3.9/site-packages/matplotlib/__init__.py\u001b[0m in \u001b[0;36minner\u001b[0;34m(ax, data, *args, **kwargs)\u001b[0m\n\u001b[1;32m   1350\u001b[0m     \u001b[0;32mdef\u001b[0m \u001b[0minner\u001b[0m\u001b[0;34m(\u001b[0m\u001b[0max\u001b[0m\u001b[0;34m,\u001b[0m \u001b[0;34m*\u001b[0m\u001b[0margs\u001b[0m\u001b[0;34m,\u001b[0m \u001b[0mdata\u001b[0m\u001b[0;34m=\u001b[0m\u001b[0;32mNone\u001b[0m\u001b[0;34m,\u001b[0m \u001b[0;34m**\u001b[0m\u001b[0mkwargs\u001b[0m\u001b[0;34m)\u001b[0m\u001b[0;34m:\u001b[0m\u001b[0;34m\u001b[0m\u001b[0;34m\u001b[0m\u001b[0m\n\u001b[1;32m   1351\u001b[0m         \u001b[0;32mif\u001b[0m \u001b[0mdata\u001b[0m \u001b[0;32mis\u001b[0m \u001b[0;32mNone\u001b[0m\u001b[0;34m:\u001b[0m\u001b[0;34m\u001b[0m\u001b[0;34m\u001b[0m\u001b[0m\n\u001b[0;32m-> 1352\u001b[0;31m             \u001b[0;32mreturn\u001b[0m \u001b[0mfunc\u001b[0m\u001b[0;34m(\u001b[0m\u001b[0max\u001b[0m\u001b[0;34m,\u001b[0m \u001b[0;34m*\u001b[0m\u001b[0mmap\u001b[0m\u001b[0;34m(\u001b[0m\u001b[0msanitize_sequence\u001b[0m\u001b[0;34m,\u001b[0m \u001b[0margs\u001b[0m\u001b[0;34m)\u001b[0m\u001b[0;34m,\u001b[0m \u001b[0;34m**\u001b[0m\u001b[0mkwargs\u001b[0m\u001b[0;34m)\u001b[0m\u001b[0;34m\u001b[0m\u001b[0;34m\u001b[0m\u001b[0m\n\u001b[0m\u001b[1;32m   1353\u001b[0m \u001b[0;34m\u001b[0m\u001b[0m\n\u001b[1;32m   1354\u001b[0m         \u001b[0mbound\u001b[0m \u001b[0;34m=\u001b[0m \u001b[0mnew_sig\u001b[0m\u001b[0;34m.\u001b[0m\u001b[0mbind\u001b[0m\u001b[0;34m(\u001b[0m\u001b[0max\u001b[0m\u001b[0;34m,\u001b[0m \u001b[0;34m*\u001b[0m\u001b[0margs\u001b[0m\u001b[0;34m,\u001b[0m \u001b[0;34m**\u001b[0m\u001b[0mkwargs\u001b[0m\u001b[0;34m)\u001b[0m\u001b[0;34m\u001b[0m\u001b[0;34m\u001b[0m\u001b[0m\n",
      "\u001b[0;32m/Library/Frameworks/Python.framework/Versions/3.9/lib/python3.9/site-packages/matplotlib/axes/_axes.py\u001b[0m in \u001b[0;36mscatter\u001b[0;34m(self, x, y, s, c, marker, cmap, norm, vmin, vmax, alpha, linewidths, edgecolors, plotnonfinite, **kwargs)\u001b[0m\n\u001b[1;32m   4476\u001b[0m         \u001b[0my\u001b[0m \u001b[0;34m=\u001b[0m \u001b[0mnp\u001b[0m\u001b[0;34m.\u001b[0m\u001b[0mma\u001b[0m\u001b[0;34m.\u001b[0m\u001b[0mravel\u001b[0m\u001b[0;34m(\u001b[0m\u001b[0my\u001b[0m\u001b[0;34m)\u001b[0m\u001b[0;34m\u001b[0m\u001b[0;34m\u001b[0m\u001b[0m\n\u001b[1;32m   4477\u001b[0m         \u001b[0;32mif\u001b[0m \u001b[0mx\u001b[0m\u001b[0;34m.\u001b[0m\u001b[0msize\u001b[0m \u001b[0;34m!=\u001b[0m \u001b[0my\u001b[0m\u001b[0;34m.\u001b[0m\u001b[0msize\u001b[0m\u001b[0;34m:\u001b[0m\u001b[0;34m\u001b[0m\u001b[0;34m\u001b[0m\u001b[0m\n\u001b[0;32m-> 4478\u001b[0;31m             \u001b[0;32mraise\u001b[0m \u001b[0mValueError\u001b[0m\u001b[0;34m(\u001b[0m\u001b[0;34m\"x and y must be the same size\"\u001b[0m\u001b[0;34m)\u001b[0m\u001b[0;34m\u001b[0m\u001b[0;34m\u001b[0m\u001b[0m\n\u001b[0m\u001b[1;32m   4479\u001b[0m \u001b[0;34m\u001b[0m\u001b[0m\n\u001b[1;32m   4480\u001b[0m         \u001b[0;32mif\u001b[0m \u001b[0ms\u001b[0m \u001b[0;32mis\u001b[0m \u001b[0;32mNone\u001b[0m\u001b[0;34m:\u001b[0m\u001b[0;34m\u001b[0m\u001b[0;34m\u001b[0m\u001b[0m\n",
      "\u001b[0;31mValueError\u001b[0m: x and y must be the same size"
     ]
    },
    {
     "data": {
      "image/png": "[encoded data removed]",
      "text/plain": [
       "<Figure size 432x288 with 1 Axes>"
      ]
     },
     "metadata": {
      "needs_background": "light"
     },
     "output_type": "display_data"
    }
   ],
   "source": [
    "y_pred = regr.predict(X_test)\n",
    "plt.scatter(X_test, y_test, color ='b')\n",
    "plt.plot(X_test, y_pred, color ='k')\n",
    "  \n",
    "plt.show()"
   ]
  },
  {
   "cell_type": "code",
   "execution_count": 12,
   "id": "equivalent-kingdom",
   "metadata": {},
   "outputs": [
    {
     "name": "stdout",
     "output_type": "stream",
     "text": [
      "5773288.276904627\n"
     ]
    }
   ],
   "source": [
    "train_error = sqrt(mean_squared_error(y_train, regr.predict(X_train)))\n",
    "print(train_error)"
   ]
  },
  {
   "cell_type": "code",
   "execution_count": 13,
   "id": "dressed-necessity",
   "metadata": {},
   "outputs": [
    {
     "name": "stdout",
     "output_type": "stream",
     "text": [
      "2867080.8103812733\n"
     ]
    }
   ],
   "source": [
    "test_error = sqrt(mean_squared_error(y_test, regr.predict(X_test)))\n",
    "print(test_error)"
   ]
  },
  {
   "cell_type": "code",
   "execution_count": 14,
   "id": "ruled-nightmare",
   "metadata": {},
   "outputs": [],
   "source": [
    "from sklearn.ensemble import RandomForestRegressor"
   ]
  },
  {
   "cell_type": "code",
   "execution_count": 15,
   "id": "union-coupon",
   "metadata": {},
   "outputs": [],
   "source": [
    "rf = RandomForestRegressor(n_estimators = 1000, random_state = 42)"
   ]
  },
  {
   "cell_type": "code",
   "execution_count": 16,
   "id": "referenced-omaha",
   "metadata": {},
   "outputs": [
    {
     "name": "stdout",
     "output_type": "stream",
     "text": [
      "0.34664434151845114\n"
     ]
    }
   ],
   "source": [
    "rf.fit(X_train, y_train)\n",
    "print(rf.score(X_test, y_test))"
   ]
  },
  {
   "cell_type": "code",
   "execution_count": 17,
   "id": "important-darwin",
   "metadata": {},
   "outputs": [
    {
     "name": "stdout",
     "output_type": "stream",
     "text": [
      "2120455.9218328954\n"
     ]
    }
   ],
   "source": [
    "train_error = sqrt(mean_squared_error(y_train, rf.predict(X_train)))\n",
    "print(train_error)"
   ]
  },
  {
   "cell_type": "code",
   "execution_count": 18,
   "id": "developing-meter",
   "metadata": {},
   "outputs": [
    {
     "name": "stdout",
     "output_type": "stream",
     "text": [
      "2378741.1524209487\n"
     ]
    }
   ],
   "source": [
    "test_error = sqrt(mean_squared_error(y_test, rf.predict(X_test)))\n",
    "print(test_error)"
   ]
  },
  {
   "cell_type": "code",
   "execution_count": null,
   "id": "original-robertson",
   "metadata": {},
   "outputs": [],
   "source": []
  }
 ],
 "metadata": {
  "kernelspec": {
   "display_name": "Python 3",
   "language": "python",
   "name": "python3"
  },
  "language_info": {
   "codemirror_mode": {
    "name": "ipython",
    "version": 3
   },
   "file_extension": ".py",
   "mimetype": "text/x-python",
   "name": "python",
   "nbconvert_exporter": "python",
   "pygments_lexer": "ipython3",
   "version": "3.9.2"
  }
 },
 "nbformat": 4,
 "nbformat_minor": 5
}
