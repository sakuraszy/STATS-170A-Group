{
 "cells": [
  {
   "cell_type": "code",
   "execution_count": 1,
   "id": "opponent-crack",
   "metadata": {},
   "outputs": [],
   "source": [
    "import math\n",
    "import numpy as np\n",
    "import pandas as pd\n",
    "import sklearn.model_selection\n",
    "import matplotlib.pyplot as plt\n",
    "from sklearn import preprocessing\n",
    "from collections import defaultdict, Counter\n",
    "from sklearn.neighbors import NearestNeighbors\n",
    "from sklearn import datasets, linear_model,cluster\n",
    "from sklearn.metrics import mean_squared_error, r2_score "
   ]
  },
  {
   "cell_type": "markdown",
   "id": "seasonal-kenya",
   "metadata": {},
   "source": [
    "### Raw Data Reading "
   ]
  },
  {
   "cell_type": "code",
   "execution_count": 2,
   "id": "lovely-receptor",
   "metadata": {},
   "outputs": [
    {
     "name": "stdout",
     "output_type": "stream",
     "text": [
      "Raw data has: 98078 rows\n"
     ]
    }
   ],
   "source": [
    "raw_df = pd.read_csv(\"zip_housing.csv\")\n",
    "print(\"Raw data has: \" + str(len(raw_df)) + \" rows\")"
   ]
  },
  {
   "cell_type": "markdown",
   "id": "peaceful-stations",
   "metadata": {},
   "source": [
    "#### Raw Data Processing: Drop all rows where (beds, baths_full, lot_size, building_size) has na, and fill baths_half with 0"
   ]
  },
  {
   "cell_type": "code",
   "execution_count": 3,
   "id": "medium-stack",
   "metadata": {},
   "outputs": [
    {
     "name": "stdout",
     "output_type": "stream",
     "text": [
      "Dropped data has: 77182 rows\n"
     ]
    }
   ],
   "source": [
    "dropped_df = raw_df.dropna(subset=['beds','baths_full','lot_size','building_size'])\n",
    "# Deleting unreasonable data\n",
    "dropped_df= dropped_df[dropped_df['building_size'] >= 100]\n",
    "dropped_df= dropped_df[dropped_df['lot_size'] >= 100]\n",
    "dropped_df[['baths_half']] = dropped_df[['baths_half']].fillna(0)\n",
    "dropped_df[['garage']] = dropped_df[['garage']].fillna(0)\n",
    "print(\"Dropped data has: \" + str(len(dropped_df)) + \" rows\")"
   ]
  },
  {
   "cell_type": "markdown",
   "id": "piano-sympathy",
   "metadata": {},
   "source": [
    "Since our dataset is large enough, and we do not have much professional knowledge about property markets, we decided to ignore all rows that contain null values instead of filling in estimate values (mean or median)."
   ]
  },
  {
   "cell_type": "markdown",
   "id": "existing-screen",
   "metadata": {},
   "source": [
    "## DBSCAN Method"
   ]
  },
  {
   "cell_type": "markdown",
   "id": "protected-sunglasses",
   "metadata": {},
   "source": [
    "#### Normalizing"
   ]
  },
  {
   "cell_type": "code",
   "execution_count": 4,
   "id": "concrete-heading",
   "metadata": {},
   "outputs": [
    {
     "data": {
      "text/html": [
       "<div>\n",
       "<style scoped>\n",
       "    .dataframe tbody tr th:only-of-type {\n",
       "        vertical-align: middle;\n",
       "    }\n",
       "\n",
       "    .dataframe tbody tr th {\n",
       "        vertical-align: top;\n",
       "    }\n",
       "\n",
       "    .dataframe thead th {\n",
       "        text-align: right;\n",
       "    }\n",
       "</style>\n",
       "<table border=\"1\" class=\"dataframe\">\n",
       "  <thead>\n",
       "    <tr style=\"text-align: right;\">\n",
       "      <th></th>\n",
       "      <th>0</th>\n",
       "      <th>1</th>\n",
       "      <th>2</th>\n",
       "      <th>3</th>\n",
       "      <th>4</th>\n",
       "      <th>5</th>\n",
       "      <th>6</th>\n",
       "    </tr>\n",
       "  </thead>\n",
       "  <tbody>\n",
       "    <tr>\n",
       "      <th>0</th>\n",
       "      <td>0.000006</td>\n",
       "      <td>0.000002</td>\n",
       "      <td>0.000002</td>\n",
       "      <td>0.000002</td>\n",
       "      <td>0.999924</td>\n",
       "      <td>0.012171</td>\n",
       "      <td>0.002191</td>\n",
       "    </tr>\n",
       "    <tr>\n",
       "      <th>1</th>\n",
       "      <td>0.000010</td>\n",
       "      <td>0.000005</td>\n",
       "      <td>0.000000</td>\n",
       "      <td>0.000000</td>\n",
       "      <td>0.999904</td>\n",
       "      <td>0.013466</td>\n",
       "      <td>0.003120</td>\n",
       "    </tr>\n",
       "    <tr>\n",
       "      <th>2</th>\n",
       "      <td>0.000008</td>\n",
       "      <td>0.000003</td>\n",
       "      <td>0.000000</td>\n",
       "      <td>0.000000</td>\n",
       "      <td>0.999959</td>\n",
       "      <td>0.008599</td>\n",
       "      <td>0.002878</td>\n",
       "    </tr>\n",
       "    <tr>\n",
       "      <th>3</th>\n",
       "      <td>0.000010</td>\n",
       "      <td>0.000010</td>\n",
       "      <td>0.000000</td>\n",
       "      <td>0.000000</td>\n",
       "      <td>0.999908</td>\n",
       "      <td>0.012668</td>\n",
       "      <td>0.004914</td>\n",
       "    </tr>\n",
       "    <tr>\n",
       "      <th>4</th>\n",
       "      <td>0.000013</td>\n",
       "      <td>0.000007</td>\n",
       "      <td>0.000000</td>\n",
       "      <td>0.000000</td>\n",
       "      <td>0.999964</td>\n",
       "      <td>0.007275</td>\n",
       "      <td>0.004360</td>\n",
       "    </tr>\n",
       "  </tbody>\n",
       "</table>\n",
       "</div>"
      ],
      "text/plain": [
       "          0         1         2         3         4         5         6\n",
       "0  0.000006  0.000002  0.000002  0.000002  0.999924  0.012171  0.002191\n",
       "1  0.000010  0.000005  0.000000  0.000000  0.999904  0.013466  0.003120\n",
       "2  0.000008  0.000003  0.000000  0.000000  0.999959  0.008599  0.002878\n",
       "3  0.000010  0.000010  0.000000  0.000000  0.999908  0.012668  0.004914\n",
       "4  0.000013  0.000007  0.000000  0.000000  0.999964  0.007275  0.004360"
      ]
     },
     "execution_count": 4,
     "metadata": {},
     "output_type": "execute_result"
    }
   ],
   "source": [
    "scaled_dataset = dropped_df[dropped_df.columns[4:11]]\n",
    "scaled_dataset = preprocessing.normalize(scaled_dataset)\n",
    "scaled_dataset = pd.DataFrame(scaled_dataset)\n",
    "scaled_dataset.head()"
   ]
  },
  {
   "cell_type": "markdown",
   "id": "advanced-fifteen",
   "metadata": {},
   "source": [
    "#### Finding Best DBSCAN (eps and Minpoints)"
   ]
  },
  {
   "cell_type": "markdown",
   "id": "colored-corpus",
   "metadata": {},
   "source": [
    "Minpoints is suggested as 2*dimension which should be 14 in our case"
   ]
  },
  {
   "cell_type": "code",
   "execution_count": 5,
   "id": "unsigned-firewall",
   "metadata": {},
   "outputs": [],
   "source": [
    "neighbors = NearestNeighbors(n_neighbors = 14)\n",
    "neighbors_fit = neighbors.fit(scaled_dataset)\n",
    "distances, indices = neighbors_fit.kneighbors(scaled_dataset)\n",
    "distances = np.sort(distances, axis=0)\n",
    "distances = distances[:,1]"
   ]
  },
  {
   "cell_type": "markdown",
   "id": "handled-delhi",
   "metadata": {},
   "source": [
    "#### Zoom in to find 'elbow' optimization point"
   ]
  },
  {
   "cell_type": "code",
   "execution_count": 6,
   "id": "victorian-program",
   "metadata": {},
   "outputs": [
    {
     "data": {
      "text/plain": [
       "(74000.0, 80000.0, 0.0002, 0.001)"
      ]
     },
     "execution_count": 6,
     "metadata": {},
     "output_type": "execute_result"
    },
    {
     "data": {
      "image/png": "[encoded data removed]",
      "text/plain": [
       "<Figure size 432x288 with 1 Axes>"
      ]
     },
     "metadata": {
      "needs_background": "light"
     },
     "output_type": "display_data"
    }
   ],
   "source": [
    "plt.plot(distances)\n",
    "plt.axis([74000, 80000, 0.0002, 0.0010])"
   ]
  },
  {
   "cell_type": "markdown",
   "id": "faced-administration",
   "metadata": {},
   "source": [
    "#### Fit DBSCAN Model"
   ]
  },
  {
   "cell_type": "code",
   "execution_count": 7,
   "id": "anticipated-knock",
   "metadata": {},
   "outputs": [],
   "source": [
    "minpts = 14\n",
    "e = 0.0006\n",
    "db = cluster.DBSCAN(eps=e,min_samples=minpts, metric='euclidean', \n",
    "                    metric_params=None, algorithm='auto', \n",
    "                    leaf_size=30, p=None, n_jobs=None)"
   ]
  },
  {
   "cell_type": "markdown",
   "id": "official-optimization",
   "metadata": {},
   "source": [
    "#### Get Labels: 0 for 'not outliers'; 1 for 'outliers'"
   ]
  },
  {
   "cell_type": "code",
   "execution_count": 8,
   "id": "flying-tracy",
   "metadata": {},
   "outputs": [
    {
     "name": "stdout",
     "output_type": "stream",
     "text": [
      "Found total: 5763 outliers.\n"
     ]
    }
   ],
   "source": [
    "model = db.fit(scaled_dataset)\n",
    "labels = []\n",
    "outliers = 0\n",
    "for i in model.labels_:\n",
    "    if i == -1:\n",
    "        labels.append(1)\n",
    "        outliers += 1\n",
    "    else:\n",
    "        labels.append(0)\n",
    "print(\"Found total: \" + str(outliers) + \" outliers.\")"
   ]
  },
  {
   "cell_type": "markdown",
   "id": "failing-overall",
   "metadata": {},
   "source": [
    "#### Combine Outliers and Processed Dataset"
   ]
  },
  {
   "cell_type": "code",
   "execution_count": 9,
   "id": "interesting-filename",
   "metadata": {},
   "outputs": [
    {
     "name": "stdout",
     "output_type": "stream",
     "text": [
      "Noise free data has: 71419 rows\n"
     ]
    }
   ],
   "source": [
    "dropped_df['outliers'] = labels\n",
    "noise_free_df = dropped_df[dropped_df['outliers'] == 0]\n",
    "print(\"Noise free data has: \" + str(len(noise_free_df)) + \" rows\")"
   ]
  },
  {
   "cell_type": "code",
   "execution_count": 10,
   "id": "infinite-authorization",
   "metadata": {},
   "outputs": [
    {
     "name": "stdout",
     "output_type": "stream",
     "text": [
      "Highest Price: 915000000\n",
      "Largest Lot:   4356000000.0\n"
     ]
    }
   ],
   "source": [
    "print('Highest Price: ' + str(max(noise_free_df['price'])))\n",
    "print('Largest Lot:   ' + str(max(noise_free_df['lot_size'])))"
   ]
  },
  {
   "cell_type": "markdown",
   "id": "smaller-colon",
   "metadata": {},
   "source": [
    "After all processing before, we still have the noise like (price == 915,000,000, or lot_size == 4,356,000,000) which we do not want in our processed dataset. The reason for this may because of the inner work of DBSCAN, which is unsupervised clustering. This raw dataset may contain enough data for those extrodinary large values to become an individual cluster. "
   ]
  },
  {
   "cell_type": "markdown",
   "id": "convinced-quantity",
   "metadata": {},
   "source": [
    "### End of DBSCAN Method"
   ]
  },
  {
   "cell_type": "markdown",
   "id": "trained-anime",
   "metadata": {},
   "source": [
    " "
   ]
  },
  {
   "cell_type": "markdown",
   "id": "identical-tracker",
   "metadata": {},
   "source": [
    "## IQR (interquantile range) Method"
   ]
  },
  {
   "cell_type": "markdown",
   "id": "european-guest",
   "metadata": {},
   "source": [
    "#### Find IQR"
   ]
  },
  {
   "cell_type": "code",
   "execution_count": 11,
   "id": "consecutive-negative",
   "metadata": {},
   "outputs": [
    {
     "name": "stdout",
     "output_type": "stream",
     "text": [
      "beds                  1.0\n",
      "baths_full            1.0\n",
      "baths_half            1.0\n",
      "garage                2.0\n",
      "price            540000.0\n",
      "lot_size           4406.0\n",
      "building_size       925.0\n",
      "dtype: float64\n"
     ]
    }
   ],
   "source": [
    "iqr_dataset = dropped_df[dropped_df.columns[4:11]]\n",
    "Q1 = iqr_dataset.quantile(0.25)\n",
    "Q3 = iqr_dataset.quantile(0.75)\n",
    "IQR = Q3 - Q1\n",
    "print(IQR)"
   ]
  },
  {
   "cell_type": "code",
   "execution_count": 12,
   "id": "registered-tender",
   "metadata": {},
   "outputs": [],
   "source": [
    "lower = Q1 - 1.5 * IQR\n",
    "higer = Q3 + 1.5 * IQR"
   ]
  },
  {
   "cell_type": "code",
   "execution_count": 13,
   "id": "recorded-thermal",
   "metadata": {},
   "outputs": [],
   "source": [
    "iqr_dataset_out = iqr_dataset[~((iqr_dataset < (lower)) |(iqr_dataset > (higer))).any(axis=1)]"
   ]
  },
  {
   "cell_type": "code",
   "execution_count": 14,
   "id": "charming-courtesy",
   "metadata": {},
   "outputs": [
    {
     "name": "stdout",
     "output_type": "stream",
     "text": [
      "IQR data has: 59250 rows\n"
     ]
    },
    {
     "name": "stderr",
     "output_type": "stream",
     "text": [
      "d:\\python3\\lib\\site-packages\\pandas\\core\\frame.py:3188: SettingWithCopyWarning: \n",
      "A value is trying to be set on a copy of a slice from a DataFrame.\n",
      "Try using .loc[row_indexer,col_indexer] = value instead\n",
      "\n",
      "See the caveats in the documentation: https://pandas.pydata.org/pandas-docs/stable/user_guide/indexing.html#returning-a-view-versus-a-copy\n",
      "  self[k1] = value[k2]\n"
     ]
    }
   ],
   "source": [
    "iqr_df = raw_df.iloc[list(iqr_dataset_out.index),:]\n",
    "iqr_df[['baths_half']] = iqr_df[['baths_half']].fillna(0)\n",
    "iqr_df[['garage']] = iqr_df[['garage']].fillna(0)\n",
    "print(\"IQR data has: \" + str(len(iqr_df)) + \" rows\")"
   ]
  },
  {
   "cell_type": "markdown",
   "id": "international-polish",
   "metadata": {},
   "source": [
    "### Result Graphs for IQR (Blue is original data; Orange is processed data) "
   ]
  },
  {
   "cell_type": "markdown",
   "id": "finnish-boating",
   "metadata": {},
   "source": [
    "#### Building size"
   ]
  },
  {
   "cell_type": "code",
   "execution_count": 15,
   "id": "macro-majority",
   "metadata": {},
   "outputs": [
    {
     "data": {
      "text/plain": [
       "[<matplotlib.lines.Line2D at 0x1cb39e69070>]"
      ]
     },
     "execution_count": 15,
     "metadata": {},
     "output_type": "execute_result"
    },
    {
     "data": {
      "image/png": "[encoded data removed]",
      "text/plain": [
       "<Figure size 432x288 with 2 Axes>"
      ]
     },
     "metadata": {
      "needs_background": "light"
     },
     "output_type": "display_data"
    }
   ],
   "source": [
    "fig, axs = plt.subplots(2, 1)\n",
    "axs[0].plot(np.sort(dropped_df['building_size']))\n",
    "axs[1].plot(np.sort(iqr_dataset_out['building_size']), 'tab:orange')"
   ]
  },
  {
   "cell_type": "markdown",
   "id": "cardiovascular-causing",
   "metadata": {},
   "source": [
    "#### Price"
   ]
  },
  {
   "cell_type": "code",
   "execution_count": 16,
   "id": "innocent-ballot",
   "metadata": {},
   "outputs": [
    {
     "data": {
      "text/plain": [
       "[<matplotlib.lines.Line2D at 0x1cb3a647340>]"
      ]
     },
     "execution_count": 16,
     "metadata": {},
     "output_type": "execute_result"
    },
    {
     "data": {
      "image/png": "[encoded data removed]",
      "text/plain": [
       "<Figure size 432x288 with 2 Axes>"
      ]
     },
     "metadata": {
      "needs_background": "light"
     },
     "output_type": "display_data"
    }
   ],
   "source": [
    "fig, axs = plt.subplots(2, 1)\n",
    "axs[0].plot(np.sort(dropped_df['price']))\n",
    "axs[1].plot(np.sort(iqr_dataset_out['price']), 'tab:orange')"
   ]
  },
  {
   "cell_type": "markdown",
   "id": "english-circular",
   "metadata": {},
   "source": [
    "#### IQR method is considering all data as a whole. It is not based on any kind of clustering. Although we eliniminated a lot of extrodinary large values, we also eliniminated some reasonable data only because it is larger than the 75% quantile (price). "
   ]
  },
  {
   "cell_type": "markdown",
   "id": "adapted-print",
   "metadata": {},
   "source": [
    "### End of IQR method"
   ]
  },
  {
   "cell_type": "markdown",
   "id": "behind-colleague",
   "metadata": {},
   "source": [
    "### Overall, I think the data processed by IQR method is much more reasonable than the DBSCAN method, but either case need to be further adjusted to fulfill our estimatation."
   ]
  }
 ],
 "metadata": {
  "kernelspec": {
   "display_name": "Python 3",
   "language": "python",
   "name": "python3"
  },
  "language_info": {
   "codemirror_mode": {
    "name": "ipython",
    "version": 3
   },
   "file_extension": ".py",
   "mimetype": "text/x-python",
   "name": "python",
   "nbconvert_exporter": "python",
   "pygments_lexer": "ipython3",
   "version": "3.9.1"
  }
 },
 "nbformat": 4,
 "nbformat_minor": 5
}
