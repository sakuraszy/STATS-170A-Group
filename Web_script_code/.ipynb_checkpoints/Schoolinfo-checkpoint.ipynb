{
 "cells": [
  {
   "cell_type": "code",
   "execution_count": 1,
   "metadata": {},
   "outputs": [],
   "source": [
    "import requests\n",
    "import json\n",
    "import time\n",
    "import csv"
   ]
  },
  {
   "cell_type": "code",
   "execution_count": 2,
   "metadata": {},
   "outputs": [],
   "source": [
    "done = []"
   ]
  },
  {
   "cell_type": "code",
   "execution_count": 3,
   "metadata": {},
   "outputs": [],
   "source": [
    "## for txt file\n",
    "##f = open(\"zipcode_to_run.txt\")\n",
    "\n",
    "##for i in f.readlines():\n",
    "##    zip = i.strip()\n",
    "##    if True:\n",
    "##        done.append(zip)\n",
    "##        url= 'https://api.schooldigger.com/v1.2/schools?st=CA&zip={0}&appID=49e39597&appKey=212f61b10b7cca0bbd4058c7b0c52dc3'.format(zip)\n",
    "##        temp = requests.get(url)\n",
    "##        j = json.loads(temp.text)\n",
    "##        with open('school_json/{0}.json'.format(zip), 'w') as f:\n",
    "##            json.dump(j,f)\n",
    "##    time.sleep(9)"
   ]
  },
  {
   "cell_type": "code",
   "execution_count": 4,
   "metadata": {},
   "outputs": [],
   "source": [
    "## for csv file\n",
    "with open(\"zipcode_to_run.csv\") as f:\n",
    "    zipcode_list = [row[\"name\"] for row in csv.DictReader(f)]\n",
    "\n",
    "for zip in zipcode_list:\n",
    "    if True:\n",
    "        done.append(zip)\n",
    "        url= 'https://api.schooldigger.com/v1.2/schools?st=CA&zip={0}&appID=49e39597&appKey=212f61b10b7cca0bbd4058c7b0c52dc3'.format(zip)\n",
    "        temp = requests.get(url)\n",
    "        j = json.loads(temp.text)\n",
    "        with open('school_json/{0}.json'.format(zip), 'w') as f:\n",
    "            json.dump(j,f)\n",
    "    time.sleep(9)"
   ]
  },
  {
   "cell_type": "code",
   "execution_count": 5,
   "metadata": {},
   "outputs": [],
   "source": [
    "f.close()"
   ]
  },
  {
   "cell_type": "code",
   "execution_count": 6,
   "metadata": {},
   "outputs": [],
   "source": [
    "##temp = requests.get('https://api.schooldigger.com/v1.2/schools?st=CA&zip=90002&appID=cf05b087&appKey=495698cebce0ce65c4dfdefa8b4d3a8c')"
   ]
  },
  {
   "cell_type": "code",
   "execution_count": 7,
   "metadata": {},
   "outputs": [],
   "source": [
    "##j = json.loads(temp.text)"
   ]
  },
  {
   "cell_type": "code",
   "execution_count": 8,
   "metadata": {},
   "outputs": [],
   "source": [
    "##with open('school_json/90002.json', 'w') as f:\n",
    "##    json.dump(j,f)"
   ]
  },
  {
   "cell_type": "code",
   "execution_count": 9,
   "metadata": {},
   "outputs": [],
   "source": [
    "##t = f.readlines()"
   ]
  },
  {
   "cell_type": "code",
   "execution_count": 10,
   "metadata": {},
   "outputs": [],
   "source": [
    "##t[498]"
   ]
  },
  {
   "cell_type": "code",
   "execution_count": null,
   "metadata": {},
   "outputs": [],
   "source": []
  }
 ],
 "metadata": {
  "kernelspec": {
   "display_name": "Python 3",
   "language": "python",
   "name": "python3"
  },
  "language_info": {
   "codemirror_mode": {
    "name": "ipython",
    "version": 3
   },
   "file_extension": ".py",
   "mimetype": "text/x-python",
   "name": "python",
   "nbconvert_exporter": "python",
   "pygments_lexer": "ipython3",
   "version": "3.9.2"
  }
 },
 "nbformat": 4,
 "nbformat_minor": 4
}
