{
 "cells": [
  {
   "cell_type": "code",
   "execution_count": 1,
   "id": "choice-blood",
   "metadata": {},
   "outputs": [],
   "source": [
    "import requests\n",
    "import json\n",
    "import csv\n",
    "import time"
   ]
  },
  {
   "cell_type": "code",
   "execution_count": 2,
   "id": "rural-advertiser",
   "metadata": {},
   "outputs": [],
   "source": [
    "url = \"https://realtor.p.rapidapi.com/properties/v2/list-sold\"\n",
    "\n",
    "folder_path = \"housing_json\"\n",
    "\n",
    "with open(\"top_150_cities_list.csv\") as f:\n",
    "    city_list = [row[\"City\"] for row in csv.DictReader(f)]"
   ]
  },
  {
   "cell_type": "code",
   "execution_count": 3,
   "id": "enhanced-parking",
   "metadata": {},
   "outputs": [],
   "source": [
    "for c in city_list:\n",
    "    querystring = {\"city\":c,\"offset\":\"0\",\"state_code\":\"CA\",\"limit\":\"400\",\"sort\":\"sold_date\"}\n",
    "\n",
    "    headers = {\n",
    "        'x-rapidapi-key': \"10b1c741abmsh1b42ef03892979ap1ff6c2jsnc4f1727852cf\",\n",
    "        'x-rapidapi-host': \"realtor.p.rapidapi.com\"\n",
    "        }\n",
    "\n",
    "    response = requests.request(\"GET\", url, headers=headers, params=querystring)\n",
    "    \n",
    "    path_to_save = folder_path + \"/\" + c + \".json\"\n",
    "\n",
    "    with open(path_to_save, 'w+') as outfile:\n",
    "        json.dump(response.json(), outfile)\n",
    "        \n",
    "    time.sleep(5)"
   ]
  },
  {
   "cell_type": "code",
   "execution_count": 5,
   "id": "editorial-tobago",
   "metadata": {},
   "outputs": [],
   "source": []
  },
  {
   "cell_type": "code",
   "execution_count": null,
   "id": "american-cedar",
   "metadata": {},
   "outputs": [],
   "source": []
  }
 ],
 "metadata": {
  "kernelspec": {
   "display_name": "Python 3",
   "language": "python",
   "name": "python3"
  },
  "language_info": {
   "codemirror_mode": {
    "name": "ipython",
    "version": 3
   },
   "file_extension": ".py",
   "mimetype": "text/x-python",
   "name": "python",
   "nbconvert_exporter": "python",
   "pygments_lexer": "ipython3",
   "version": "3.9.2"
  }
 },
 "nbformat": 4,
 "nbformat_minor": 5
}
