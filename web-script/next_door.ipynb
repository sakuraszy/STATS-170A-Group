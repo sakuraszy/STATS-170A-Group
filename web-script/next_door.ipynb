{
 "cells": [
  {
   "cell_type": "code",
   "execution_count": null,
   "id": "equal-scotland",
   "metadata": {},
   "outputs": [],
   "source": [
    "import requests\n",
    "from bs4 import BeautifulSoup\n",
    "import re\n",
    "import json\n",
    "from collections import defaultdict \n",
    "import time\n",
    "from pandas import DataFrame"
   ]
  },
  {
   "cell_type": "code",
   "execution_count": null,
   "id": "framed-envelope",
   "metadata": {},
   "outputs": [],
   "source": [
    "class NextDoorInfo:\n",
    "    def __init__(self):\n",
    "        self.base_url = 'https://nextdoor.com/find-neighborhood/ca/'\n",
    "        self.all_city_url = []\n",
    "        self.all_neighborhood_url = []\n",
    "        self.city_name_pattern = \"(?<=city: \\\").*(?=\\\",)\"\n",
    "        self.neighbor_name_pattern = \"(?<=shortName: \\\").*(?=\\\",)\"\n",
    "        self.attributes_pattern = \"(?<=attributes: ).*(?=,)\"\n",
    "        self.final_result = []\n",
    "        self.cursor = 0\n",
    "        \n",
    "    def get_base_page(self):\n",
    "        self.page = requests.get(self.base_url)\n",
    "        self.soup = BeautifulSoup(self.page.content, 'html.parser')\n",
    "        if self.soup != None:\n",
    "            print(\"Got Page\")\n",
    "    \n",
    "    def get_all_city(self):\n",
    "        self.results = self.soup.find(id = \"child_links\")\n",
    "        self.job_elems = self.results.find_all(class_='link')\n",
    "        pattern = \"(?<=city\\/).*(?=\\-\\-ca)\"\n",
    "        for i in self.job_elems:\n",
    "            self.all_city_url.append(i['href'])\n",
    "        print(\"First 5 Cities\")\n",
    "        for n in range(5):\n",
    "            print (self.all_city_url[n])\n",
    "\n",
    "    def get_all_neighborhood(self):\n",
    "        for city_url in self.all_city_url:\n",
    "            print(city_url)\n",
    "            temp_url = []\n",
    "            \n",
    "            try:\n",
    "                city_page = requests.get(city_url)\n",
    "                city_soup = BeautifulSoup(city_page.content, 'html.parser')\n",
    "                city_results = city_soup.find(id = 'child_links')\n",
    "                city_job_elems = city_results.find_all(class_='link')\n",
    "\n",
    "                for i in city_job_elems:\n",
    "                    temp_url.append(i['href'])\n",
    "                    \n",
    "            except Exception:\n",
    "                print(\"No Neighbor\")\n",
    "                \n",
    "            self.all_neighborhood_url.append(temp_url)\n",
    "            \n",
    "    def get_all_tags(self):\n",
    "        for place in range(self.cursor,len(self.all_neighborhood_url)):\n",
    "            result = []\n",
    "            \n",
    "            if self.all_neighborhood_url[place] != 0:\n",
    "                for neighbor in self.all_neighborhood_url[place]:\n",
    "                    sub_result = []\n",
    "                    print(neighbor)\n",
    "                    neighborhood_page = requests.get(neighbor)\n",
    "                    neighborhood_soup = BeautifulSoup(neighborhood_page.content, 'html.parser')\n",
    "                    try:\n",
    "                        city_name = re.search(self.city_name_pattern,str(neighborhood_soup)).group(0)\n",
    "                        neighbor_name = re.search(self.neighbor_name_pattern,str(neighborhood_soup)).group(0)\n",
    "                        attributes = json.loads(re.search(self.attributes_pattern,str(neighborhood_soup)).group(0))\n",
    "                        sub_result.append(city_name)\n",
    "                        sub_result.append(self.all_city_url[place])\n",
    "                        sub_result.append(neighbor_name)\n",
    "                        sub_result.append(neighbor)\n",
    "                        sub_result.append(attributes)\n",
    "                    except AttributeError:\n",
    "                        sub_result.append(\"Problem City\")\n",
    "                        sub_result.append(self.all_city_url[place])\n",
    "                        sub_result.append(\"Problem Neighbor\")\n",
    "                        sub_result.append(neighbor)\n",
    "                        sub_result.append(\"Problem Attributes\")\n",
    "                    result.append(sub_result)\n",
    "            else:\n",
    "                sub_result = []\n",
    "                sub_result.append(\"City Name\")\n",
    "                sub_result.append(self.all_city_url[place])\n",
    "                sub_result.append(None)\n",
    "                sub_result.append(None)\n",
    "                sub_result.append(None)\n",
    "                result.append(sub_result)\n",
    "        \n",
    "            self.final_result.extend(result)\n",
    "            self.cursor += 1\n",
    "        \n",
    "    def reset_cursor_n_results(self):\n",
    "        self.cursor = 0\n",
    "        self.final_result = []\n",
    "        "
   ]
  },
  {
   "cell_type": "markdown",
   "id": "acquired-grove",
   "metadata": {},
   "source": [
    "Script"
   ]
  },
  {
   "cell_type": "code",
   "execution_count": null,
   "id": "computational-piece",
   "metadata": {},
   "outputs": [],
   "source": [
    "test = NextDoorInfo()\n",
    "test.get_base_page()\n",
    "test.get_all_city()\n",
    "print(len(test.all_city_url))"
   ]
  },
  {
   "cell_type": "code",
   "execution_count": null,
   "id": "divine-bennett",
   "metadata": {},
   "outputs": [],
   "source": [
    "test.get_all_neighborhood()\n",
    "print(len(test.all_neighborhood_url))"
   ]
  },
  {
   "cell_type": "code",
   "execution_count": null,
   "id": "latin-graduation",
   "metadata": {},
   "outputs": [],
   "source": [
    "while test.cursor != len(test.all_city_url):\n",
    "    test.get_all_tags()\n",
    "    print(\"restarting\")\n",
    "    time.sleep(180)\n",
    "print(\"done\")"
   ]
  },
  {
   "cell_type": "code",
   "execution_count": null,
   "id": "seasonal-hammer",
   "metadata": {},
   "outputs": [],
   "source": [
    "test.final_result"
   ]
  },
  {
   "cell_type": "code",
   "execution_count": null,
   "id": "stainless-amount",
   "metadata": {},
   "outputs": [],
   "source": [
    "test.cursor"
   ]
  },
  {
   "cell_type": "code",
   "execution_count": null,
   "id": "behavioral-hardware",
   "metadata": {},
   "outputs": [],
   "source": [
    "df = DataFrame (test.final_result,columns=['city_name','city_url','neighborhood_name','neighborhood_url','tags'])"
   ]
  },
  {
   "cell_type": "code",
   "execution_count": null,
   "id": "latter-candidate",
   "metadata": {},
   "outputs": [],
   "source": [
    "df.to_csv(r'F:\\170A Data\\all_neighbors_modified.csv',index = False, header = True)"
   ]
  }
 ],
 "metadata": {
  "kernelspec": {
   "display_name": "Python 3",
   "language": "python",
   "name": "python3"
  },
  "language_info": {
   "codemirror_mode": {
    "name": "ipython",
    "version": 3
   },
   "file_extension": ".py",
   "mimetype": "text/x-python",
   "name": "python",
   "nbconvert_exporter": "python",
   "pygments_lexer": "ipython3",
   "version": "3.9.1"
  }
 },
 "nbformat": 4,
 "nbformat_minor": 5
}
