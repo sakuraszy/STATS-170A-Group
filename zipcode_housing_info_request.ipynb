{
 "cells": [
  {
   "cell_type": "code",
   "execution_count": 1,
   "id": "honest-transmission",
   "metadata": {},
   "outputs": [],
   "source": [
    "import requests\n",
    "import json\n",
    "import csv\n",
    "import time"
   ]
  },
  {
   "cell_type": "code",
   "execution_count": 2,
   "id": "blessed-combining",
   "metadata": {},
   "outputs": [],
   "source": [
    "url = \"https://realtor.p.rapidapi.com/properties/v2/list-sold\"\n",
    "\n",
    "folder_path = \"zipcode_housing_json\"\n",
    "\n",
    "with open(\"zipcode_list.csv\") as f:\n",
    "    zipcode_list = [row[\"name\"] for row in csv.DictReader(f)]\n",
    "\n",
    "def list_diff(li1, li2):\n",
    "    li_dif = [i for i in li1 + li2 if i not in li1 or i not in li2]\n",
    "    return li_dif\n",
    "\n",
    "##l1 = ['1', '2', '3', '4', '5', '6', '7', '8']\n",
    "##l2 = ['2', '7']\n",
    "##print(list_diff(l1, l2))\n",
    "    \n",
    "completed = []"
   ]
  },
  {
   "cell_type": "code",
   "execution_count": 3,
   "id": "boxed-collector",
   "metadata": {},
   "outputs": [],
   "source": [
    "while(len(zipcode_list) > len(completed)):\n",
    "    try:\n",
    "        temp = list_diff(zipcode_list, completed)\n",
    "        for z in temp:\n",
    "            querystring = {\"offset\":\"0\",\"state_code\":\"CA\",\"limit\":\"200\",\"postal_code\": str(z),\"sort\":\"sold_date\"}\n",
    "\n",
    "            headers = {\n",
    "                'x-rapidapi-key': \"10b1c741abmsh1b42ef03892979ap1ff6c2jsnc4f1727852cf\",\n",
    "                'x-rapidapi-host': \"realtor.p.rapidapi.com\"\n",
    "                }\n",
    "\n",
    "            response = requests.request(\"GET\", url, headers=headers, params=querystring)\n",
    "\n",
    "            path_to_save = folder_path + \"/\" + z + \".json\"\n",
    "\n",
    "            with open(path_to_save, 'w+') as outfile:\n",
    "                json.dump(response.json(), outfile)\n",
    "            \n",
    "            completed.append(z)\n",
    "\n",
    "            time.sleep(5)\n",
    "            \n",
    "    except:\n",
    "        time.sleep(90)\n",
    "        continue"
   ]
  },
  {
   "cell_type": "code",
   "execution_count": 6,
   "id": "fewer-hormone",
   "metadata": {},
   "outputs": [],
   "source": [
    "querystring = {\"offset\":\"0\",\"state_code\":\"CA\",\"limit\":\"200\",\"postal_code\": 92867,\"sort\":\"sold_date\"}\n",
    "\n",
    "headers = {\n",
    "    'x-rapidapi-key': \"10b1c741abmsh1b42ef03892979ap1ff6c2jsnc4f1727852cf\",\n",
    "    'x-rapidapi-host': \"realtor.p.rapidapi.com\"\n",
    "    }\n",
    "\n",
    "response = requests.request(\"GET\", url, headers=headers, params=querystring)\n",
    "\n",
    "path_to_save = folder_path + \"/\" + \"92867\" + \".json\"\n",
    "\n",
    "with open(path_to_save, 'w+') as outfile:\n",
    "    json.dump(response.json(), outfile)"
   ]
  },
  {
   "cell_type": "code",
   "execution_count": null,
   "id": "dramatic-capitol",
   "metadata": {},
   "outputs": [],
   "source": []
  }
 ],
 "metadata": {
  "kernelspec": {
   "display_name": "Python 3",
   "language": "python",
   "name": "python3"
  },
  "language_info": {
   "codemirror_mode": {
    "name": "ipython",
    "version": 3
   },
   "file_extension": ".py",
   "mimetype": "text/x-python",
   "name": "python",
   "nbconvert_exporter": "python",
   "pygments_lexer": "ipython3",
   "version": "3.9.2"
  }
 },
 "nbformat": 4,
 "nbformat_minor": 5
}
